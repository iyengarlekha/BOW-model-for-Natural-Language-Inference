{
 "cells": [
  {
   "cell_type": "code",
   "execution_count": 78,
   "metadata": {},
   "outputs": [],
   "source": [
    "from models import NeuralNetwork, LogisticRegression\n",
    "import pandas as pd\n",
    "import torch\n",
    "import load_data\n",
    "import pickle as pkl\n",
    "import torch.nn as nn"
   ]
  },
  {
   "cell_type": "code",
   "execution_count": 127,
   "metadata": {},
   "outputs": [],
   "source": [
    "pd.options.display.max_rows=None\n",
    "pd.options.display.max_rows=None"
   ]
  },
  {
   "cell_type": "markdown",
   "metadata": {},
   "source": [
    "## Load Best Model"
   ]
  },
  {
   "cell_type": "code",
   "execution_count": 129,
   "metadata": {},
   "outputs": [],
   "source": [
    "BEST_MODEL = 'models/20000_50_SUB_neural-net.pt'\n",
    "VOCAB_SIZE = 20000\n",
    "BATCH_SIZE = 100\n",
    "EMBED_DIM = 50\n",
    "NUM_CLASS = 20\n",
    "HIDDEN_DIM = 100\n",
    "CAT_MODE = \"SUB\"\n",
    "\n",
    "label2idx = {'contradiction': 0, 'neutral': 1, 'entailment': 2}\n",
    "idx2label = {0: 'contradiction', 1: 'neutral', 2: 'entailment'}"
   ]
  },
  {
   "cell_type": "code",
   "execution_count": 136,
   "metadata": {},
   "outputs": [],
   "source": [
    "snli_val = pd.read_csv(\"data/snli_val.tsv\", sep='\\t')[:BATCH_SIZE]\n",
    "val_data = load_data.prepare_data(snli_val)\n",
    "id2token = pkl.load(open('pickle/'+str(VOCAB_SIZE)+'_id2token.pkl', 'rb'))\n",
    "token2id = pkl.load(open('pickle/'+str(VOCAB_SIZE)+'_token2id.pkl', 'rb'))\n",
    "indiced_val_data, val_target = load_data.token2index_dataset(val_data, token2id, 30)\n",
    "val_dataset = load_data.SNLIDataset(indiced_val_data, val_target)\n",
    "val_loader = torch.utils.data.DataLoader(dataset=val_dataset, \n",
    "                                           batch_size=BATCH_SIZE,\n",
    "                                           collate_fn=load_data.SNLI_collate_func,\n",
    "                                           shuffle=False)"
   ]
  },
  {
   "cell_type": "code",
   "execution_count": 137,
   "metadata": {},
   "outputs": [
    {
     "data": {
      "text/plain": [
       "NeuralNetwork(\n",
       "  (embed): Embedding(18764, 50)\n",
       "  (linear1): Linear(in_features=50, out_features=100, bias=True)\n",
       "  (linear2): Linear(in_features=100, out_features=20, bias=True)\n",
       ")"
      ]
     },
     "execution_count": 137,
     "metadata": {},
     "output_type": "execute_result"
    }
   ],
   "source": [
    "num_embed = len(set(id2token))\n",
    "emb_layer = nn.Embedding(num_embed, EMBED_DIM)\n",
    "model = NeuralNetwork(emb_layer, EMBED_DIM, NUM_CLASS, HIDDEN_DIM, CAT_MODE)\n",
    "model.load_state_dict(torch.load(BEST_MODEL))\n",
    "model.eval()"
   ]
  },
  {
   "cell_type": "markdown",
   "metadata": {},
   "source": [
    "## Helper functions "
   ]
  },
  {
   "cell_type": "code",
   "execution_count": 167,
   "metadata": {},
   "outputs": [],
   "source": [
    "def pred_proba(prem, hyp, len_prem, len_hyp):\n",
    "    with torch.no_grad():\n",
    "        raw = model(prem, hyp, len_prem, len_hyp)\n",
    "    return nn.Softmax()(raw)\n",
    "\n",
    "def pred(prem, hyp, len_prem, len_hyp):\n",
    "    proba = pred_proba(prem, hyp, len_prem, len_hyp)\n",
    "    return proba.max(1)\n",
    "\n",
    "def idx_to_string(idx_arr, idx2token):\n",
    "    return ''.join([idx2token[idx] for idx in idx_arr])\n",
    "\n",
    "def print_row(row):\n",
    "    print('Premise: {}'.format(row.sentence1))\n",
    "    print('Hypothesis: {}'.format(row.sentence2))\n",
    "    print('Label: {}'.format(row.label))\n",
    "    print('Pred: {}'.format(row.pred))"
   ]
  },
  {
   "cell_type": "markdown",
   "metadata": {},
   "source": [
    "## Load batch of data"
   ]
  },
  {
   "cell_type": "code",
   "execution_count": 139,
   "metadata": {},
   "outputs": [],
   "source": [
    "prem, len_prem, hyp, len_hyp, labels = next(iter(val_loader))"
   ]
  },
  {
   "cell_type": "markdown",
   "metadata": {},
   "source": [
    "## Make Predictions"
   ]
  },
  {
   "cell_type": "code",
   "execution_count": 140,
   "metadata": {},
   "outputs": [
    {
     "name": "stderr",
     "output_type": "stream",
     "text": [
      "/home/buckwheat/.conda/envs/pytorch/lib/python3.7/site-packages/ipykernel_launcher.py:4: UserWarning: Implicit dimension choice for softmax has been deprecated. Change the call to include dim=X as an argument.\n",
      "  after removing the cwd from sys.path.\n"
     ]
    }
   ],
   "source": [
    "# preds contains confidence and class of predictions\n",
    "preds = pred(prem, hyp, len_prem, len_hyp)"
   ]
  },
  {
   "cell_type": "code",
   "execution_count": 156,
   "metadata": {},
   "outputs": [
    {
     "data": {
      "text/html": [
       "<div>\n",
       "<style scoped>\n",
       "    .dataframe tbody tr th:only-of-type {\n",
       "        vertical-align: middle;\n",
       "    }\n",
       "\n",
       "    .dataframe tbody tr th {\n",
       "        vertical-align: top;\n",
       "    }\n",
       "\n",
       "    .dataframe thead th {\n",
       "        text-align: right;\n",
       "    }\n",
       "</style>\n",
       "<table border=\"1\" class=\"dataframe\">\n",
       "  <thead>\n",
       "    <tr style=\"text-align: right;\">\n",
       "      <th></th>\n",
       "      <th>sentence1</th>\n",
       "      <th>sentence2</th>\n",
       "      <th>label</th>\n",
       "      <th>pred</th>\n",
       "      <th>confidence</th>\n",
       "      <th>correct</th>\n",
       "    </tr>\n",
       "  </thead>\n",
       "  <tbody>\n",
       "    <tr>\n",
       "      <td>0</td>\n",
       "      <td>Three women on a stage , one wearing red shoes...</td>\n",
       "      <td>There are two women standing on the stage</td>\n",
       "      <td>contradiction</td>\n",
       "      <td>entailment</td>\n",
       "      <td>0.982565</td>\n",
       "      <td>False</td>\n",
       "    </tr>\n",
       "    <tr>\n",
       "      <td>1</td>\n",
       "      <td>Four people sit on a subway two read books , o...</td>\n",
       "      <td>Multiple people are on a subway together , wit...</td>\n",
       "      <td>entailment</td>\n",
       "      <td>entailment</td>\n",
       "      <td>0.999467</td>\n",
       "      <td>True</td>\n",
       "    </tr>\n",
       "    <tr>\n",
       "      <td>2</td>\n",
       "      <td>bicycles stationed while a group of people soc...</td>\n",
       "      <td>People get together near a stand of bicycles .</td>\n",
       "      <td>entailment</td>\n",
       "      <td>entailment</td>\n",
       "      <td>0.734481</td>\n",
       "      <td>True</td>\n",
       "    </tr>\n",
       "    <tr>\n",
       "      <td>3</td>\n",
       "      <td>Man in overalls with two horses .</td>\n",
       "      <td>a man in overalls with two horses</td>\n",
       "      <td>entailment</td>\n",
       "      <td>entailment</td>\n",
       "      <td>0.984802</td>\n",
       "      <td>True</td>\n",
       "    </tr>\n",
       "    <tr>\n",
       "      <td>4</td>\n",
       "      <td>Man observes a wavelength given off by an elec...</td>\n",
       "      <td>The man is examining what wavelength is given ...</td>\n",
       "      <td>entailment</td>\n",
       "      <td>entailment</td>\n",
       "      <td>0.808949</td>\n",
       "      <td>True</td>\n",
       "    </tr>\n",
       "  </tbody>\n",
       "</table>\n",
       "</div>"
      ],
      "text/plain": [
       "                                           sentence1  \\\n",
       "0  Three women on a stage , one wearing red shoes...   \n",
       "1  Four people sit on a subway two read books , o...   \n",
       "2  bicycles stationed while a group of people soc...   \n",
       "3                  Man in overalls with two horses .   \n",
       "4  Man observes a wavelength given off by an elec...   \n",
       "\n",
       "                                           sentence2          label  \\\n",
       "0          There are two women standing on the stage  contradiction   \n",
       "1  Multiple people are on a subway together , wit...     entailment   \n",
       "2     People get together near a stand of bicycles .     entailment   \n",
       "3                  a man in overalls with two horses     entailment   \n",
       "4  The man is examining what wavelength is given ...     entailment   \n",
       "\n",
       "         pred  confidence  correct  \n",
       "0  entailment    0.982565    False  \n",
       "1  entailment    0.999467     True  \n",
       "2  entailment    0.734481     True  \n",
       "3  entailment    0.984802     True  \n",
       "4  entailment    0.808949     True  "
      ]
     },
     "execution_count": 156,
     "metadata": {},
     "output_type": "execute_result"
    }
   ],
   "source": [
    "results = snli_val\n",
    "results['pred'] = [idx2label[idx.item()] for idx in preds.indices]\n",
    "results['confidence'] = preds.values\n",
    "results['correct'] = results.label == results.pred\n",
    "results.head()"
   ]
  },
  {
   "cell_type": "markdown",
   "metadata": {},
   "source": [
    "## Incorrect Predictions"
   ]
  },
  {
   "cell_type": "code",
   "execution_count": 159,
   "metadata": {},
   "outputs": [
    {
     "data": {
      "text/html": [
       "<div>\n",
       "<style scoped>\n",
       "    .dataframe tbody tr th:only-of-type {\n",
       "        vertical-align: middle;\n",
       "    }\n",
       "\n",
       "    .dataframe tbody tr th {\n",
       "        vertical-align: top;\n",
       "    }\n",
       "\n",
       "    .dataframe thead th {\n",
       "        text-align: right;\n",
       "    }\n",
       "</style>\n",
       "<table border=\"1\" class=\"dataframe\">\n",
       "  <thead>\n",
       "    <tr style=\"text-align: right;\">\n",
       "      <th></th>\n",
       "      <th>sentence1</th>\n",
       "      <th>sentence2</th>\n",
       "      <th>label</th>\n",
       "      <th>pred</th>\n",
       "      <th>confidence</th>\n",
       "      <th>correct</th>\n",
       "    </tr>\n",
       "  </thead>\n",
       "  <tbody>\n",
       "    <tr>\n",
       "      <td>0</td>\n",
       "      <td>Three women on a stage , one wearing red shoes...</td>\n",
       "      <td>There are two women standing on the stage</td>\n",
       "      <td>contradiction</td>\n",
       "      <td>entailment</td>\n",
       "      <td>0.982565</td>\n",
       "      <td>False</td>\n",
       "    </tr>\n",
       "    <tr>\n",
       "      <td>5</td>\n",
       "      <td>Two people are in a green forest .</td>\n",
       "      <td>The forest is not dead .</td>\n",
       "      <td>entailment</td>\n",
       "      <td>contradiction</td>\n",
       "      <td>0.999981</td>\n",
       "      <td>False</td>\n",
       "    </tr>\n",
       "    <tr>\n",
       "      <td>8</td>\n",
       "      <td>A group of numbered participants walk down the...</td>\n",
       "      <td>Participants wait for the beginning of the wal...</td>\n",
       "      <td>neutral</td>\n",
       "      <td>contradiction</td>\n",
       "      <td>0.917985</td>\n",
       "      <td>False</td>\n",
       "    </tr>\n",
       "    <tr>\n",
       "      <td>13</td>\n",
       "      <td>Man in white shirt and blue jeans looking to t...</td>\n",
       "      <td>Man has a blue shirt on .</td>\n",
       "      <td>contradiction</td>\n",
       "      <td>entailment</td>\n",
       "      <td>0.992036</td>\n",
       "      <td>False</td>\n",
       "    </tr>\n",
       "    <tr>\n",
       "      <td>18</td>\n",
       "      <td>A red jeep hangs from the edge of a rocky clif...</td>\n",
       "      <td>The vehicle is red .</td>\n",
       "      <td>entailment</td>\n",
       "      <td>neutral</td>\n",
       "      <td>0.781819</td>\n",
       "      <td>False</td>\n",
       "    </tr>\n",
       "  </tbody>\n",
       "</table>\n",
       "</div>"
      ],
      "text/plain": [
       "                                            sentence1  \\\n",
       "0   Three women on a stage , one wearing red shoes...   \n",
       "5                  Two people are in a green forest .   \n",
       "8   A group of numbered participants walk down the...   \n",
       "13  Man in white shirt and blue jeans looking to t...   \n",
       "18  A red jeep hangs from the edge of a rocky clif...   \n",
       "\n",
       "                                            sentence2          label  \\\n",
       "0           There are two women standing on the stage  contradiction   \n",
       "5                            The forest is not dead .     entailment   \n",
       "8   Participants wait for the beginning of the wal...        neutral   \n",
       "13                          Man has a blue shirt on .  contradiction   \n",
       "18                               The vehicle is red .     entailment   \n",
       "\n",
       "             pred  confidence  correct  \n",
       "0      entailment    0.982565    False  \n",
       "5   contradiction    0.999981    False  \n",
       "8   contradiction    0.917985    False  \n",
       "13     entailment    0.992036    False  \n",
       "18        neutral    0.781819    False  "
      ]
     },
     "execution_count": 159,
     "metadata": {},
     "output_type": "execute_result"
    }
   ],
   "source": [
    "incorrect = results[results.correct == False]\n",
    "incorrect.head()"
   ]
  },
  {
   "cell_type": "markdown",
   "metadata": {},
   "source": [
    "### Incorrect #1"
   ]
  },
  {
   "cell_type": "code",
   "execution_count": 168,
   "metadata": {},
   "outputs": [
    {
     "name": "stdout",
     "output_type": "stream",
     "text": [
      "Premise: Two people are in a green forest .\n",
      "Hypothesis: The forest is not dead .\n",
      "Label: entailment\n",
      "Pred: contradiction\n"
     ]
    }
   ],
   "source": [
    "incorrect_1 = incorrect.iloc[1]\n",
    "print_row(incorrect_1)"
   ]
  },
  {
   "cell_type": "markdown",
   "metadata": {},
   "source": [
    "The model is unable to understand the contradiction of \"not\" dead. It probably thinks the last sentence says that the forest is dead."
   ]
  },
  {
   "cell_type": "markdown",
   "metadata": {},
   "source": [
    "### Incorrect #2"
   ]
  },
  {
   "cell_type": "code",
   "execution_count": 169,
   "metadata": {},
   "outputs": [
    {
     "name": "stdout",
     "output_type": "stream",
     "text": [
      "Premise: Three women on a stage , one wearing red shoes , black pants , and a gray shirt is sitting on a prop , another is sitting on the floor , and the third wearing a black shirt and pants is standing , as a gentleman in the back tunes an instrument .\n",
      "Hypothesis: There are two women standing on the stage\n",
      "Label: contradiction\n",
      "Pred: entailment\n"
     ]
    }
   ],
   "source": [
    "incorrect_2 = incorrect.iloc[0]\n",
    "print_row(incorrect_2)"
   ]
  },
  {
   "cell_type": "markdown",
   "metadata": {},
   "source": [
    "Premise is very long, model may not understand the difference between two and three, especially given all the other information in the premise. Also the model may not be able to connect the number 3 with women."
   ]
  },
  {
   "cell_type": "markdown",
   "metadata": {},
   "source": [
    "## Incorrect #3"
   ]
  },
  {
   "cell_type": "code",
   "execution_count": 170,
   "metadata": {},
   "outputs": [
    {
     "name": "stdout",
     "output_type": "stream",
     "text": [
      "Premise: Man in white shirt and blue jeans looking to the side while walking down a busy sidewalk .\n",
      "Hypothesis: Man has a blue shirt on .\n",
      "Label: contradiction\n",
      "Pred: entailment\n"
     ]
    }
   ],
   "source": [
    "incorrect_3 = incorrect.iloc[3]\n",
    "print_row(incorrect_3)"
   ]
  },
  {
   "cell_type": "markdown",
   "metadata": {},
   "source": [
    "Model unable to assign adjective to nouns, it knows that something is blue and so preidcts entailment"
   ]
  },
  {
   "cell_type": "markdown",
   "metadata": {},
   "source": [
    "## Correct Predictions"
   ]
  },
  {
   "cell_type": "code",
   "execution_count": 171,
   "metadata": {},
   "outputs": [
    {
     "data": {
      "text/html": [
       "<div>\n",
       "<style scoped>\n",
       "    .dataframe tbody tr th:only-of-type {\n",
       "        vertical-align: middle;\n",
       "    }\n",
       "\n",
       "    .dataframe tbody tr th {\n",
       "        vertical-align: top;\n",
       "    }\n",
       "\n",
       "    .dataframe thead th {\n",
       "        text-align: right;\n",
       "    }\n",
       "</style>\n",
       "<table border=\"1\" class=\"dataframe\">\n",
       "  <thead>\n",
       "    <tr style=\"text-align: right;\">\n",
       "      <th></th>\n",
       "      <th>sentence1</th>\n",
       "      <th>sentence2</th>\n",
       "      <th>label</th>\n",
       "      <th>pred</th>\n",
       "      <th>confidence</th>\n",
       "      <th>correct</th>\n",
       "    </tr>\n",
       "  </thead>\n",
       "  <tbody>\n",
       "    <tr>\n",
       "      <td>1</td>\n",
       "      <td>Four people sit on a subway two read books , o...</td>\n",
       "      <td>Multiple people are on a subway together , wit...</td>\n",
       "      <td>entailment</td>\n",
       "      <td>entailment</td>\n",
       "      <td>0.999467</td>\n",
       "      <td>True</td>\n",
       "    </tr>\n",
       "    <tr>\n",
       "      <td>2</td>\n",
       "      <td>bicycles stationed while a group of people soc...</td>\n",
       "      <td>People get together near a stand of bicycles .</td>\n",
       "      <td>entailment</td>\n",
       "      <td>entailment</td>\n",
       "      <td>0.734481</td>\n",
       "      <td>True</td>\n",
       "    </tr>\n",
       "    <tr>\n",
       "      <td>3</td>\n",
       "      <td>Man in overalls with two horses .</td>\n",
       "      <td>a man in overalls with two horses</td>\n",
       "      <td>entailment</td>\n",
       "      <td>entailment</td>\n",
       "      <td>0.984802</td>\n",
       "      <td>True</td>\n",
       "    </tr>\n",
       "    <tr>\n",
       "      <td>4</td>\n",
       "      <td>Man observes a wavelength given off by an elec...</td>\n",
       "      <td>The man is examining what wavelength is given ...</td>\n",
       "      <td>entailment</td>\n",
       "      <td>entailment</td>\n",
       "      <td>0.808949</td>\n",
       "      <td>True</td>\n",
       "    </tr>\n",
       "    <tr>\n",
       "      <td>6</td>\n",
       "      <td>Two men are listening to music through headpho...</td>\n",
       "      <td>Two men listen to music .</td>\n",
       "      <td>entailment</td>\n",
       "      <td>entailment</td>\n",
       "      <td>0.727257</td>\n",
       "      <td>True</td>\n",
       "    </tr>\n",
       "  </tbody>\n",
       "</table>\n",
       "</div>"
      ],
      "text/plain": [
       "                                           sentence1  \\\n",
       "1  Four people sit on a subway two read books , o...   \n",
       "2  bicycles stationed while a group of people soc...   \n",
       "3                  Man in overalls with two horses .   \n",
       "4  Man observes a wavelength given off by an elec...   \n",
       "6  Two men are listening to music through headpho...   \n",
       "\n",
       "                                           sentence2       label        pred  \\\n",
       "1  Multiple people are on a subway together , wit...  entailment  entailment   \n",
       "2     People get together near a stand of bicycles .  entailment  entailment   \n",
       "3                  a man in overalls with two horses  entailment  entailment   \n",
       "4  The man is examining what wavelength is given ...  entailment  entailment   \n",
       "6                          Two men listen to music .  entailment  entailment   \n",
       "\n",
       "   confidence  correct  \n",
       "1    0.999467     True  \n",
       "2    0.734481     True  \n",
       "3    0.984802     True  \n",
       "4    0.808949     True  \n",
       "6    0.727257     True  "
      ]
     },
     "execution_count": 171,
     "metadata": {},
     "output_type": "execute_result"
    }
   ],
   "source": [
    "correct = results[results.correct == True]\n",
    "correct.head()"
   ]
  },
  {
   "cell_type": "markdown",
   "metadata": {},
   "source": [
    "## Correct #1"
   ]
  },
  {
   "cell_type": "code",
   "execution_count": 172,
   "metadata": {},
   "outputs": [
    {
     "name": "stdout",
     "output_type": "stream",
     "text": [
      "Premise: Man in overalls with two horses .\n",
      "Hypothesis: a man in overalls with two horses\n",
      "Label: entailment\n",
      "Pred: entailment\n"
     ]
    }
   ],
   "source": [
    "correct_1 = correct.iloc[2]\n",
    "print_row(correct_1)"
   ]
  },
  {
   "cell_type": "markdown",
   "metadata": {},
   "source": [
    "Basically the same sentence"
   ]
  },
  {
   "cell_type": "markdown",
   "metadata": {},
   "source": [
    "## Correct #2"
   ]
  },
  {
   "cell_type": "code",
   "execution_count": 173,
   "metadata": {},
   "outputs": [
    {
     "name": "stdout",
     "output_type": "stream",
     "text": [
      "Premise: Man observes a wavelength given off by an electronic device .\n",
      "Hypothesis: The man is examining what wavelength is given off by the device .\n",
      "Label: entailment\n",
      "Pred: entailment\n"
     ]
    }
   ],
   "source": [
    "correct_2 = correct.iloc[3]\n",
    "print_row(correct_2)"
   ]
  },
  {
   "cell_type": "markdown",
   "metadata": {},
   "source": [
    "Again, large overlap in the words used"
   ]
  },
  {
   "cell_type": "markdown",
   "metadata": {},
   "source": [
    "### Correct #3"
   ]
  },
  {
   "cell_type": "code",
   "execution_count": 177,
   "metadata": {},
   "outputs": [
    {
     "data": {
      "text/html": [
       "<div>\n",
       "<style scoped>\n",
       "    .dataframe tbody tr th:only-of-type {\n",
       "        vertical-align: middle;\n",
       "    }\n",
       "\n",
       "    .dataframe tbody tr th {\n",
       "        vertical-align: top;\n",
       "    }\n",
       "\n",
       "    .dataframe thead th {\n",
       "        text-align: right;\n",
       "    }\n",
       "</style>\n",
       "<table border=\"1\" class=\"dataframe\">\n",
       "  <thead>\n",
       "    <tr style=\"text-align: right;\">\n",
       "      <th></th>\n",
       "      <th>sentence1</th>\n",
       "      <th>sentence2</th>\n",
       "      <th>label</th>\n",
       "      <th>pred</th>\n",
       "      <th>confidence</th>\n",
       "      <th>correct</th>\n",
       "    </tr>\n",
       "  </thead>\n",
       "  <tbody>\n",
       "    <tr>\n",
       "      <td>7</td>\n",
       "      <td>Two women , one walking her dog the other push...</td>\n",
       "      <td>There is a snowstorm .</td>\n",
       "      <td>contradiction</td>\n",
       "      <td>contradiction</td>\n",
       "      <td>0.886462</td>\n",
       "      <td>True</td>\n",
       "    </tr>\n",
       "    <tr>\n",
       "      <td>9</td>\n",
       "      <td>Three people and a white dog are sitting in th...</td>\n",
       "      <td>Three dogs and a person are sitting in the snow .</td>\n",
       "      <td>contradiction</td>\n",
       "      <td>contradiction</td>\n",
       "      <td>0.912180</td>\n",
       "      <td>True</td>\n",
       "    </tr>\n",
       "    <tr>\n",
       "      <td>12</td>\n",
       "      <td>A little boy watches a Ferris Wheel in motion .</td>\n",
       "      <td>A boy is waiting in line for the Ferris Wheel .</td>\n",
       "      <td>neutral</td>\n",
       "      <td>neutral</td>\n",
       "      <td>0.987572</td>\n",
       "      <td>True</td>\n",
       "    </tr>\n",
       "    <tr>\n",
       "      <td>16</td>\n",
       "      <td>A woman in a light blue jacket is riding a bike .</td>\n",
       "      <td>A woman in a jacket riding a bike to work .</td>\n",
       "      <td>neutral</td>\n",
       "      <td>neutral</td>\n",
       "      <td>0.993825</td>\n",
       "      <td>True</td>\n",
       "    </tr>\n",
       "    <tr>\n",
       "      <td>17</td>\n",
       "      <td>A group of people dressed in Santa Claus suits...</td>\n",
       "      <td>A band plays at a beach party .</td>\n",
       "      <td>neutral</td>\n",
       "      <td>neutral</td>\n",
       "      <td>0.994159</td>\n",
       "      <td>True</td>\n",
       "    </tr>\n",
       "  </tbody>\n",
       "</table>\n",
       "</div>"
      ],
      "text/plain": [
       "                                            sentence1  \\\n",
       "7   Two women , one walking her dog the other push...   \n",
       "9   Three people and a white dog are sitting in th...   \n",
       "12    A little boy watches a Ferris Wheel in motion .   \n",
       "16  A woman in a light blue jacket is riding a bike .   \n",
       "17  A group of people dressed in Santa Claus suits...   \n",
       "\n",
       "                                            sentence2          label  \\\n",
       "7                              There is a snowstorm .  contradiction   \n",
       "9   Three dogs and a person are sitting in the snow .  contradiction   \n",
       "12    A boy is waiting in line for the Ferris Wheel .        neutral   \n",
       "16        A woman in a jacket riding a bike to work .        neutral   \n",
       "17                    A band plays at a beach party .        neutral   \n",
       "\n",
       "             pred  confidence  correct  \n",
       "7   contradiction    0.886462     True  \n",
       "9   contradiction    0.912180     True  \n",
       "12        neutral    0.987572     True  \n",
       "16        neutral    0.993825     True  \n",
       "17        neutral    0.994159     True  "
      ]
     },
     "execution_count": 177,
     "metadata": {},
     "output_type": "execute_result"
    }
   ],
   "source": [
    "correct_not_entailment = correct[correct.label != 'entailment']\n",
    "correct_not_entailment.head()"
   ]
  },
  {
   "cell_type": "code",
   "execution_count": 178,
   "metadata": {},
   "outputs": [
    {
     "name": "stdout",
     "output_type": "stream",
     "text": [
      "Premise: Three people and a white dog are sitting in the sand on a beach .\n",
      "Hypothesis: Three dogs and a person are sitting in the snow .\n",
      "Label: contradiction\n",
      "Pred: contradiction\n"
     ]
    }
   ],
   "source": [
    "correct_3 = correct_not_entailment.iloc[1]\n",
    "print_row(correct_3)"
   ]
  },
  {
   "cell_type": "markdown",
   "metadata": {},
   "source": [
    "Probably got it different due to the beach vs snow, doubt it understood the contradiction regarding the number of people and dogs."
   ]
  },
  {
   "cell_type": "code",
   "execution_count": null,
   "metadata": {},
   "outputs": [],
   "source": []
  },
  {
   "cell_type": "markdown",
   "metadata": {},
   "source": [
    "Overall it seems the model performs well when the hypothesis does not include specific details, especially those related to a specific noun in the premise"
   ]
  },
  {
   "cell_type": "markdown",
   "metadata": {},
   "source": [
    "The model performs well when there is large overlap between the two sentences in terms of words used. The model appears to be unable to understand more complex \"things\""
   ]
  },
  {
   "cell_type": "code",
   "execution_count": null,
   "metadata": {},
   "outputs": [],
   "source": []
  }
 ],
 "metadata": {
  "kernelspec": {
   "display_name": "Python [conda env:.conda-pytorch]",
   "language": "python",
   "name": "conda-env-.conda-pytorch-py"
  },
  "language_info": {
   "codemirror_mode": {
    "name": "ipython",
    "version": 3
   },
   "file_extension": ".py",
   "mimetype": "text/x-python",
   "name": "python",
   "nbconvert_exporter": "python",
   "pygments_lexer": "ipython3",
   "version": "3.7.4"
  }
 },
 "nbformat": 4,
 "nbformat_minor": 4
}
