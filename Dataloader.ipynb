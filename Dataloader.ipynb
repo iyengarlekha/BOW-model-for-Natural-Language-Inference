{
 "cells": [
  {
   "cell_type": "markdown",
   "metadata": {},
   "source": [
    "# Dataloader\n",
    "**Code to load pre-tokenized data and build embeddings using pre-trained vectors.**\n",
    "\n",
    "Please be sure that this directory is cloned under the directory for HW1. The structure of HW1 folder should be as followed.\n",
    "- HW1\n",
    "    - data\n",
    "        - mnli_train.tsv\n",
    "        - mnli_val.tsv\n",
    "        - snli_train.tsv\n",
    "        - snli_val.tsv\n",
    "    - < name of this github repo >\n",
    "        - < the current notebook >\n",
    "    - wiki-news-300d-1M.vec"
   ]
  },
  {
   "cell_type": "code",
   "execution_count": 1,
   "metadata": {},
   "outputs": [],
   "source": [
    "%load_ext autoreload\n",
    "%autoreload 2\n",
    "\n",
    "import pandas as pd\n",
    "import pickle as pkl\n",
    "import datetime\n",
    "import random\n",
    "import numpy as np\n",
    "import torch\n",
    "from torch.utils.data import Dataset"
   ]
  },
  {
   "cell_type": "code",
   "execution_count": 2,
   "metadata": {},
   "outputs": [],
   "source": [
    "import load_data"
   ]
  },
  {
   "cell_type": "code",
   "execution_count": 3,
   "metadata": {},
   "outputs": [],
   "source": [
    "DATA_PATH = '../data/'\n",
    "VEC_PATH = '../wiki-news-300d-1M.vec'\n",
    "\n",
    "VOCAB_SIZE = 50000"
   ]
  },
  {
   "cell_type": "markdown",
   "metadata": {},
   "source": [
    "### Tokenization"
   ]
  },
  {
   "cell_type": "code",
   "execution_count": 4,
   "metadata": {},
   "outputs": [],
   "source": [
    "snli_train = pd.read_csv(DATA_PATH + \"snli_train.tsv\", sep='\\t')\n",
    "snli_val = pd.read_csv(DATA_PATH + \"snli_val.tsv\", sep='\\t')"
   ]
  },
  {
   "cell_type": "code",
   "execution_count": 5,
   "metadata": {},
   "outputs": [],
   "source": [
    "# # Make directory /pickle/ if it doesn't already exist.\n",
    "# import os\n",
    "# os.mkdir(os.getcwd()+'/pickle/')"
   ]
  },
  {
   "cell_type": "markdown",
   "metadata": {},
   "source": [
    "The current `50000_vectors.pkl`, `50000_id2token.pkl`, and `50000_token2id.pkl` is for `vocab size` of `50000`. The files can be downloaded from https://drive.google.com/open?id=1Fn49uTsw03KHZ6VsoG-eYwaPRYAwnqPe and should be saved under `os.getcwd()+'/pickle/'`. Need to re-run the block of code below for other `vocab size` options."
   ]
  },
  {
   "cell_type": "code",
   "execution_count": 6,
   "metadata": {},
   "outputs": [],
   "source": [
    "# print(datetime.datetime.now().strftime(\"%H:%M:%S\"))\n",
    "# train_data = load_data.prepare_data(snli_train)\n",
    "# token2id, id2token, vectors = load_data.build_vocabulary(train_data, VEC_PATH, VOCAB_SIZE)\n",
    "# pkl.dump(vectors, open('pickle/'+str(VOCAB_SIZE)+'_vectors.pkl', 'wb'))\n",
    "# pkl.dump(token2id, open('pickle/'+str(VOCAB_SIZE)+'_token2id.pkl', 'wb'))\n",
    "# pkl.dump(id2token, open('pickle/'+str(VOCAB_SIZE)+'_id2token.pkl', 'wb'))\n",
    "# print(datetime.datetime.now().strftime(\"%H:%M:%S\"))"
   ]
  },
  {
   "cell_type": "code",
   "execution_count": 7,
   "metadata": {},
   "outputs": [],
   "source": [
    "train_data = load_data.prepare_data(snli_train)\n",
    "val_data = load_data.prepare_data(snli_val)\n",
    "vectors = pkl.load(open('pickle/'+str(VOCAB_SIZE)+'_vectors.pkl', 'rb'))\n",
    "id2token = pkl.load(open('pickle/'+str(VOCAB_SIZE)+'_id2token.pkl', 'rb'))\n",
    "token2id = pkl.load(open('pickle/'+str(VOCAB_SIZE)+'_token2id.pkl', 'rb'))"
   ]
  },
  {
   "cell_type": "code",
   "execution_count": 8,
   "metadata": {},
   "outputs": [
    {
     "name": "stdout",
     "output_type": "stream",
     "text": [
      "Train dataset size is 100000\n",
      "Val dataset size is 1000\n",
      "Total number of vocab built from train dataset is 22059\n"
     ]
    }
   ],
   "source": [
    "# double checking\n",
    "print (\"Train dataset size is {}\".format(len(train_data)))\n",
    "print (\"Val dataset size is {}\".format(len(val_data)))\n",
    "print (\"Total number of vocab built from train dataset is {}\".format(len(set(id2token))))"
   ]
  },
  {
   "cell_type": "code",
   "execution_count": 9,
   "metadata": {},
   "outputs": [
    {
     "name": "stdout",
     "output_type": "stream",
     "text": [
      "Token id 12835 ; token corduroy\n",
      "Token corduroy; token id 12835\n"
     ]
    }
   ],
   "source": [
    "# Lets check the dictionary by loading random token from it\n",
    "random_token_id = random.randint(0, len(id2token)-1)\n",
    "random_token = id2token[random_token_id]\n",
    "\n",
    "print (\"Token id {} ; token {}\".format(random_token_id, id2token[random_token_id]))\n",
    "print (\"Token {}; token id {}\".format(random_token, token2id[random_token]))"
   ]
  },
  {
   "cell_type": "markdown",
   "metadata": {},
   "source": [
    "### Determine `MAX_SENTENCE_LENGTH`"
   ]
  },
  {
   "cell_type": "code",
   "execution_count": 10,
   "metadata": {},
   "outputs": [
    {
     "data": {
      "text/html": [
       "<div>\n",
       "<style scoped>\n",
       "    .dataframe tbody tr th:only-of-type {\n",
       "        vertical-align: middle;\n",
       "    }\n",
       "\n",
       "    .dataframe tbody tr th {\n",
       "        vertical-align: top;\n",
       "    }\n",
       "\n",
       "    .dataframe thead th {\n",
       "        text-align: right;\n",
       "    }\n",
       "</style>\n",
       "<table border=\"1\" class=\"dataframe\">\n",
       "  <thead>\n",
       "    <tr style=\"text-align: right;\">\n",
       "      <th></th>\n",
       "      <th>sentence1</th>\n",
       "      <th>sentence2</th>\n",
       "      <th>label</th>\n",
       "    </tr>\n",
       "  </thead>\n",
       "  <tbody>\n",
       "    <tr>\n",
       "      <td>0</td>\n",
       "      <td>[A, young, girl, in, a, pink, shirt, sitting, ...</td>\n",
       "      <td>[A, young, girl, watching, the, sunset, over, ...</td>\n",
       "      <td>1</td>\n",
       "    </tr>\n",
       "    <tr>\n",
       "      <td>1</td>\n",
       "      <td>[A, woman, is, smiling, while, the, man, next,...</td>\n",
       "      <td>[Two, people, are, next, to, each, other, .]</td>\n",
       "      <td>2</td>\n",
       "    </tr>\n",
       "    <tr>\n",
       "      <td>2</td>\n",
       "      <td>[Across, the, river, ,, you, can, see, a, larg...</td>\n",
       "      <td>[The, large, building, is, full, of, apartment...</td>\n",
       "      <td>1</td>\n",
       "    </tr>\n",
       "    <tr>\n",
       "      <td>3</td>\n",
       "      <td>[a, man, in, white, shorts, and, a, black, shi...</td>\n",
       "      <td>[A, man, is, riding, a, jetski, on, the, ocean...</td>\n",
       "      <td>0</td>\n",
       "    </tr>\n",
       "    <tr>\n",
       "      <td>4</td>\n",
       "      <td>[Four, black, dogs, run, together, on, bright,...</td>\n",
       "      <td>[Four, dogs, are, preparing, to, be, launched,...</td>\n",
       "      <td>0</td>\n",
       "    </tr>\n",
       "  </tbody>\n",
       "</table>\n",
       "</div>"
      ],
      "text/plain": [
       "                                           sentence1  \\\n",
       "0  [A, young, girl, in, a, pink, shirt, sitting, ...   \n",
       "1  [A, woman, is, smiling, while, the, man, next,...   \n",
       "2  [Across, the, river, ,, you, can, see, a, larg...   \n",
       "3  [a, man, in, white, shorts, and, a, black, shi...   \n",
       "4  [Four, black, dogs, run, together, on, bright,...   \n",
       "\n",
       "                                           sentence2  label  \n",
       "0  [A, young, girl, watching, the, sunset, over, ...      1  \n",
       "1       [Two, people, are, next, to, each, other, .]      2  \n",
       "2  [The, large, building, is, full, of, apartment...      1  \n",
       "3  [A, man, is, riding, a, jetski, on, the, ocean...      0  \n",
       "4  [Four, dogs, are, preparing, to, be, launched,...      0  "
      ]
     },
     "execution_count": 10,
     "metadata": {},
     "output_type": "execute_result"
    }
   ],
   "source": [
    "train_data.head()"
   ]
  },
  {
   "cell_type": "code",
   "execution_count": 31,
   "metadata": {},
   "outputs": [
    {
     "data": {
      "image/png": "[encoded data removed]",
      "text/plain": [
       "<Figure size 432x288 with 1 Axes>"
      ]
     },
     "metadata": {
      "needs_background": "light"
     },
     "output_type": "display_data"
    }
   ],
   "source": [
    "# plot sentence length to determine a good value for MAX_SENTENCE_LENGTH\n",
    "train_data.sentence1.str.len().plot(kind='hist', legend=True);\n",
    "train_data.sentence2.str.len().plot(kind='hist', legend=True);"
   ]
  },
  {
   "cell_type": "markdown",
   "metadata": {},
   "source": [
    "Determined `MAX_SENTENCE_LENGTH = 30`. This variable is specified in `load_data.py`."
   ]
  },
  {
   "cell_type": "markdown",
   "metadata": {},
   "source": [
    "### token2index"
   ]
  },
  {
   "cell_type": "code",
   "execution_count": 12,
   "metadata": {},
   "outputs": [],
   "source": [
    "indiced_train_data, train_target = load_data.token2index_dataset(train_data, token2id)\n",
    "indiced_val_data, val_target = load_data.token2index_dataset(val_data, token2id)"
   ]
  },
  {
   "cell_type": "markdown",
   "metadata": {},
   "source": [
    "### Pytorch DataLoader"
   ]
  },
  {
   "cell_type": "code",
   "execution_count": 15,
   "metadata": {},
   "outputs": [],
   "source": [
    "BATCH_SIZE = 32\n",
    "train_dataset = load_data.SNLIDataset(indiced_train_data, train_target)\n",
    "train_loader = torch.utils.data.DataLoader(dataset=train_dataset, \n",
    "                                           batch_size=BATCH_SIZE,\n",
    "                                           collate_fn=load_data.SNLI_collate_func,\n",
    "                                           shuffle=True)\n",
    "\n",
    "val_dataset = load_data.SNLIDataset(indiced_val_data, val_target)\n",
    "val_loader = torch.utils.data.DataLoader(dataset=val_dataset, \n",
    "                                           batch_size=BATCH_SIZE,\n",
    "                                           collate_fn=load_data.SNLI_collate_func,\n",
    "                                           shuffle=True)"
   ]
  },
  {
   "cell_type": "code",
   "execution_count": 16,
   "metadata": {},
   "outputs": [
    {
     "name": "stdout",
     "output_type": "stream",
     "text": [
      "tensor([ 7, 10, 12,  9,  9, 16,  7, 13, 18, 22, 30, 16, 10,  9,  6,  6, 10, 13,\n",
      "        26, 11, 13,  9, 19, 10,  8, 10, 14, 20, 16, 10, 17, 19]) torch.Size([32, 30])\n",
      "tensor([ 4,  8, 10,  4,  4,  7,  8, 10,  7,  9, 14, 13, 11,  8,  8,  8,  2,  7,\n",
      "         8,  4,  9,  9, 11,  7,  4,  6, 11,  7,  8,  7, 10, 13]) torch.Size([32, 30])\n",
      "tensor([1, 2, 0, 0, 2, 0, 0, 0, 2, 1, 1, 1, 0, 0, 1, 2, 0, 2, 2, 1, 1, 1, 2, 2,\n",
      "        0, 2, 1, 2, 0, 1, 0, 0])\n"
     ]
    }
   ],
   "source": [
    "# check that the dataloader works\n",
    "for i, (x1, x1_lengths, x2, x2_lengths, labels) in enumerate(train_loader):\n",
    "    print(x1_lengths, x1.size())\n",
    "    print(x2_lengths, x2.size())\n",
    "    print(labels)\n",
    "    break"
   ]
  },
  {
   "cell_type": "markdown",
   "metadata": {},
   "source": [
    "### nn.Embedding"
   ]
  },
  {
   "cell_type": "code",
   "execution_count": 17,
   "metadata": {},
   "outputs": [
    {
     "name": "stdout",
     "output_type": "stream",
     "text": [
      "torch.Size([22059, 300])\n"
     ]
    }
   ],
   "source": [
    "# create weights matrix from pretrained vectors\n",
    "weights_matrix = load_data.create_weights(vectors, id2token)\n",
    "print(weights_matrix.size())"
   ]
  },
  {
   "cell_type": "markdown",
   "metadata": {},
   "source": [
    "**how to use the pretrained embedding in model**"
   ]
  },
  {
   "cell_type": "code",
   "execution_count": 18,
   "metadata": {},
   "outputs": [
    {
     "name": "stdout",
     "output_type": "stream",
     "text": [
      "Embedding(22059, 300)\n",
      "torch.Size([32, 30, 300])\n"
     ]
    }
   ],
   "source": [
    "emb_layer, num_embeddings, embedding_dim = load_data.create_emb_layer(weights_matrix)\n",
    "\n",
    "print(emb_layer)\n",
    "\n",
    "for x1, x1_lengths, x2, x2_lengths, labels in train_loader:\n",
    "    print(emb_layer(x1).size())\n",
    "    break"
   ]
  },
  {
   "cell_type": "markdown",
   "metadata": {},
   "source": [
    "**embedding layer dimension = (batch size x max sentence length x embedding dim)**"
   ]
  },
  {
   "cell_type": "markdown",
   "metadata": {},
   "source": [
    "# Use MNLI dataset with the vocab built from SNLI\n",
    "The code is pretty much the same with SNLI except for an additional filter on genre."
   ]
  },
  {
   "cell_type": "code",
   "execution_count": 19,
   "metadata": {},
   "outputs": [],
   "source": [
    "mnli_train = pd.read_csv(DATA_PATH + \"mnli_train.tsv\", sep='\\t')\n",
    "mnli_val = pd.read_csv(DATA_PATH + \"mnli_val.tsv\", sep='\\t')"
   ]
  },
  {
   "cell_type": "markdown",
   "metadata": {},
   "source": [
    "The key is to just use `vectors`, `id2token`, and `token2id` that was built from SNLI train set"
   ]
  },
  {
   "cell_type": "code",
   "execution_count": 20,
   "metadata": {},
   "outputs": [],
   "source": [
    "mnli_train_data = load_data.prepare_data(mnli_train)\n",
    "mnli_val_data = load_data.prepare_data(mnli_val)\n",
    "vectors = pkl.load(open('pickle/'+str(VOCAB_SIZE)+'_vectors.pkl', 'rb'))\n",
    "id2token = pkl.load(open('pickle/'+str(VOCAB_SIZE)+'_id2token.pkl', 'rb'))\n",
    "token2id = pkl.load(open('pickle/'+str(VOCAB_SIZE)+'_token2id.pkl', 'rb'))"
   ]
  },
  {
   "cell_type": "code",
   "execution_count": 21,
   "metadata": {},
   "outputs": [
    {
     "name": "stdout",
     "output_type": "stream",
     "text": [
      "Train dataset size is 20000\n",
      "Val dataset size is 5000\n",
      "Total number of vocab built from train dataset is 22059\n"
     ]
    }
   ],
   "source": [
    "print (\"Train dataset size is {}\".format(len(mnli_train_data)))\n",
    "print (\"Val dataset size is {}\".format(len(mnli_val_data)))\n",
    "print (\"Total number of vocab built from train dataset is {}\".format(len(set(id2token))))"
   ]
  },
  {
   "cell_type": "code",
   "execution_count": 22,
   "metadata": {},
   "outputs": [
    {
     "data": {
      "text/html": [
       "<div>\n",
       "<style scoped>\n",
       "    .dataframe tbody tr th:only-of-type {\n",
       "        vertical-align: middle;\n",
       "    }\n",
       "\n",
       "    .dataframe tbody tr th {\n",
       "        vertical-align: top;\n",
       "    }\n",
       "\n",
       "    .dataframe thead th {\n",
       "        text-align: right;\n",
       "    }\n",
       "</style>\n",
       "<table border=\"1\" class=\"dataframe\">\n",
       "  <thead>\n",
       "    <tr style=\"text-align: right;\">\n",
       "      <th></th>\n",
       "      <th>sentence1</th>\n",
       "      <th>sentence2</th>\n",
       "      <th>label</th>\n",
       "    </tr>\n",
       "    <tr>\n",
       "      <th>genre</th>\n",
       "      <th></th>\n",
       "      <th></th>\n",
       "      <th></th>\n",
       "    </tr>\n",
       "  </thead>\n",
       "  <tbody>\n",
       "    <tr>\n",
       "      <td>fiction</td>\n",
       "      <td>3836</td>\n",
       "      <td>3836</td>\n",
       "      <td>3836</td>\n",
       "    </tr>\n",
       "    <tr>\n",
       "      <td>government</td>\n",
       "      <td>3883</td>\n",
       "      <td>3883</td>\n",
       "      <td>3883</td>\n",
       "    </tr>\n",
       "    <tr>\n",
       "      <td>slate</td>\n",
       "      <td>4026</td>\n",
       "      <td>4026</td>\n",
       "      <td>4026</td>\n",
       "    </tr>\n",
       "    <tr>\n",
       "      <td>telephone</td>\n",
       "      <td>4270</td>\n",
       "      <td>4270</td>\n",
       "      <td>4270</td>\n",
       "    </tr>\n",
       "    <tr>\n",
       "      <td>travel</td>\n",
       "      <td>3985</td>\n",
       "      <td>3985</td>\n",
       "      <td>3985</td>\n",
       "    </tr>\n",
       "  </tbody>\n",
       "</table>\n",
       "</div>"
      ],
      "text/plain": [
       "            sentence1  sentence2  label\n",
       "genre                                  \n",
       "fiction          3836       3836   3836\n",
       "government       3883       3883   3883\n",
       "slate            4026       4026   4026\n",
       "telephone        4270       4270   4270\n",
       "travel           3985       3985   3985"
      ]
     },
     "execution_count": 22,
     "metadata": {},
     "output_type": "execute_result"
    }
   ],
   "source": [
    "mnli_train_data.groupby('genre').count()"
   ]
  },
  {
   "cell_type": "code",
   "execution_count": 23,
   "metadata": {},
   "outputs": [
    {
     "data": {
      "text/html": [
       "<div>\n",
       "<style scoped>\n",
       "    .dataframe tbody tr th:only-of-type {\n",
       "        vertical-align: middle;\n",
       "    }\n",
       "\n",
       "    .dataframe tbody tr th {\n",
       "        vertical-align: top;\n",
       "    }\n",
       "\n",
       "    .dataframe thead th {\n",
       "        text-align: right;\n",
       "    }\n",
       "</style>\n",
       "<table border=\"1\" class=\"dataframe\">\n",
       "  <thead>\n",
       "    <tr style=\"text-align: right;\">\n",
       "      <th></th>\n",
       "      <th>sentence1</th>\n",
       "      <th>sentence2</th>\n",
       "      <th>label</th>\n",
       "    </tr>\n",
       "    <tr>\n",
       "      <th>genre</th>\n",
       "      <th></th>\n",
       "      <th></th>\n",
       "      <th></th>\n",
       "    </tr>\n",
       "  </thead>\n",
       "  <tbody>\n",
       "    <tr>\n",
       "      <td>fiction</td>\n",
       "      <td>995</td>\n",
       "      <td>995</td>\n",
       "      <td>995</td>\n",
       "    </tr>\n",
       "    <tr>\n",
       "      <td>government</td>\n",
       "      <td>1016</td>\n",
       "      <td>1016</td>\n",
       "      <td>1016</td>\n",
       "    </tr>\n",
       "    <tr>\n",
       "      <td>slate</td>\n",
       "      <td>1002</td>\n",
       "      <td>1002</td>\n",
       "      <td>1002</td>\n",
       "    </tr>\n",
       "    <tr>\n",
       "      <td>telephone</td>\n",
       "      <td>1005</td>\n",
       "      <td>1005</td>\n",
       "      <td>1005</td>\n",
       "    </tr>\n",
       "    <tr>\n",
       "      <td>travel</td>\n",
       "      <td>982</td>\n",
       "      <td>982</td>\n",
       "      <td>982</td>\n",
       "    </tr>\n",
       "  </tbody>\n",
       "</table>\n",
       "</div>"
      ],
      "text/plain": [
       "            sentence1  sentence2  label\n",
       "genre                                  \n",
       "fiction           995        995    995\n",
       "government       1016       1016   1016\n",
       "slate            1002       1002   1002\n",
       "telephone        1005       1005   1005\n",
       "travel            982        982    982"
      ]
     },
     "execution_count": 23,
     "metadata": {},
     "output_type": "execute_result"
    }
   ],
   "source": [
    "mnli_val_data.groupby('genre').count()"
   ]
  },
  {
   "cell_type": "code",
   "execution_count": 24,
   "metadata": {},
   "outputs": [
    {
     "data": {
      "text/plain": [
       "['telephone', 'fiction', 'slate', 'government', 'travel']"
      ]
     },
     "execution_count": 24,
     "metadata": {},
     "output_type": "execute_result"
    }
   ],
   "source": [
    "all_genre = mnli_train_data.genre.unique().tolist()\n",
    "all_genre"
   ]
  },
  {
   "cell_type": "markdown",
   "metadata": {},
   "source": [
    "Using `'telephone'` as an example here:"
   ]
  },
  {
   "cell_type": "code",
   "execution_count": 25,
   "metadata": {},
   "outputs": [],
   "source": [
    "mnli_train_tel = mnli_train_data[mnli_train_data['genre'] == 'telephone']\n",
    "mnli_val_tel = mnli_val_data[mnli_val_data['genre'] == 'telephone']"
   ]
  },
  {
   "cell_type": "code",
   "execution_count": 26,
   "metadata": {},
   "outputs": [
    {
     "data": {
      "image/png": "[encoded data removed]",
      "text/plain": [
       "<Figure size 432x288 with 1 Axes>"
      ]
     },
     "metadata": {
      "needs_background": "light"
     },
     "output_type": "display_data"
    }
   ],
   "source": [
    "mnli_train_tel.sentence1.str.len().plot(kind='hist', legend=True);\n",
    "mnli_train_tel.sentence2.str.len().plot(kind='hist', legend=True);"
   ]
  },
  {
   "cell_type": "markdown",
   "metadata": {},
   "source": [
    "Here we would probably want to change the `MAX_SENTENCE_LENGTH` to about `50` before moving forward with building dataloaders."
   ]
  },
  {
   "cell_type": "code",
   "execution_count": 27,
   "metadata": {},
   "outputs": [],
   "source": [
    "indiced_train_data, train_target = load_data.token2index_dataset(mnli_train_tel, token2id)\n",
    "indiced_val_data, val_target = load_data.token2index_dataset(mnli_val_tel, token2id)"
   ]
  },
  {
   "cell_type": "code",
   "execution_count": 28,
   "metadata": {},
   "outputs": [],
   "source": [
    "BATCH_SIZE = 32\n",
    "train_dataset = load_data.SNLIDataset(indiced_train_data, train_target)\n",
    "train_loader = torch.utils.data.DataLoader(dataset=train_dataset, \n",
    "                                           batch_size=BATCH_SIZE,\n",
    "                                           collate_fn=load_data.SNLI_collate_func,\n",
    "                                           shuffle=True)\n",
    "\n",
    "val_dataset = load_data.SNLIDataset(indiced_val_data, val_target)\n",
    "val_loader = torch.utils.data.DataLoader(dataset=val_dataset, \n",
    "                                           batch_size=BATCH_SIZE,\n",
    "                                           collate_fn=load_data.SNLI_collate_func,\n",
    "                                           shuffle=True)"
   ]
  },
  {
   "cell_type": "code",
   "execution_count": 29,
   "metadata": {},
   "outputs": [
    {
     "name": "stdout",
     "output_type": "stream",
     "text": [
      "torch.Size([22059, 300])\n"
     ]
    }
   ],
   "source": [
    "weights_matrix = load_data.create_weights(vectors, id2token)\n",
    "print(weights_matrix.size())"
   ]
  },
  {
   "cell_type": "code",
   "execution_count": 30,
   "metadata": {},
   "outputs": [
    {
     "name": "stdout",
     "output_type": "stream",
     "text": [
      "Embedding(22059, 300)\n",
      "torch.Size([32, 30, 300])\n"
     ]
    }
   ],
   "source": [
    "emb_layer, num_embeddings, embedding_dim = load_data.create_emb_layer(weights_matrix)\n",
    "\n",
    "print(emb_layer)\n",
    "\n",
    "for x1, x1_lengths, x2, x2_lengths, labels in train_loader:\n",
    "    print(emb_layer(x1).size())\n",
    "    break"
   ]
  }
 ],
 "metadata": {
  "kernelspec": {
   "display_name": "Python 3",
   "language": "python",
   "name": "python3"
  },
  "language_info": {
   "codemirror_mode": {
    "name": "ipython",
    "version": 3
   },
   "file_extension": ".py",
   "mimetype": "text/x-python",
   "name": "python",
   "nbconvert_exporter": "python",
   "pygments_lexer": "ipython3",
   "version": "3.6.9"
  }
 },
 "nbformat": 4,
 "nbformat_minor": 4
}
