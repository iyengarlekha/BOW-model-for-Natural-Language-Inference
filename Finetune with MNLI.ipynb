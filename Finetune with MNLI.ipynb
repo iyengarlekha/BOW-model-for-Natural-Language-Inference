{
 "cells": [
  {
   "cell_type": "markdown",
   "metadata": {},
   "source": [
    "# Finetuning with MNLI\n",
    "\n",
    "After finding our best model, follow this notebook to finetune the model with MNLI dataset"
   ]
  },
  {
   "cell_type": "code",
   "execution_count": 1,
   "metadata": {},
   "outputs": [],
   "source": [
    "%load_ext autoreload\n",
    "%autoreload 2\n",
    "\n",
    "import pandas as pd\n",
    "import pickle as pkl\n",
    "import datetime\n",
    "import random\n",
    "import numpy as np\n",
    "import torch\n",
    "import os\n",
    "from torch.utils.data import Dataset\n",
    "\n",
    "import torch\n",
    "import torch.nn as nn\n",
    "import torch.nn.functional as F\n",
    "import torch.optim as optim\n",
    "from torch.utils.data import Dataset\n",
    "\n",
    "import load_data\n",
    "from models_yi import *\n",
    "from training_yi import *"
   ]
  },
  {
   "cell_type": "code",
   "execution_count": 2,
   "metadata": {},
   "outputs": [],
   "source": [
    "DATA_PATH = 'data/'\n",
    "\n",
    "VOCAB_SIZE = 10000\n",
    "HIDDEN_DIM = 100\n",
    "EMBEDDING_DIM = 200\n",
    "MAX_SENTENCE_LENGTH = 30\n",
    "BATCH_SIZE = 32\n",
    "NUM_CLASS = 20\n",
    "LEARNING_RATE = 0.01\n",
    "NUM_EPOCHES = 5\n",
    "CONCAT_MODE = \"DIRECT\" ## Possible values: \"DIRECT\", \"AVERAGE\""
   ]
  },
  {
   "cell_type": "markdown",
   "metadata": {},
   "source": [
    "### Initialize MNLI data"
   ]
  },
  {
   "cell_type": "code",
   "execution_count": 3,
   "metadata": {},
   "outputs": [
    {
     "name": "stdout",
     "output_type": "stream",
     "text": [
      "Train dataset size is 20000\n",
      "Val dataset size is 5000\n",
      "Total number of vocab built from train dataset is 9927\n"
     ]
    }
   ],
   "source": [
    "mnli_train = pd.read_csv(DATA_PATH + \"mnli_train.tsv\", sep='\\t')\n",
    "mnli_val = pd.read_csv(DATA_PATH + \"mnli_val.tsv\", sep='\\t')\n",
    "\n",
    "mnli_train_data = load_data.prepare_data(mnli_train)\n",
    "mnli_val_data = load_data.prepare_data(mnli_val)\n",
    "vectors = pkl.load(open('pickle/'+str(VOCAB_SIZE)+'_vectors.pkl', 'rb'))\n",
    "id2token = pkl.load(open('pickle/'+str(VOCAB_SIZE)+'_id2token.pkl', 'rb'))\n",
    "token2id = pkl.load(open('pickle/'+str(VOCAB_SIZE)+'_token2id.pkl', 'rb'))\n",
    "\n",
    "print (\"Train dataset size is {}\".format(len(mnli_train_data)))\n",
    "print (\"Val dataset size is {}\".format(len(mnli_val_data)))\n",
    "print (\"Total number of vocab built from train dataset is {}\".format(len(set(id2token))))"
   ]
  },
  {
   "cell_type": "code",
   "execution_count": 4,
   "metadata": {},
   "outputs": [
    {
     "data": {
      "text/plain": [
       "['telephone', 'fiction', 'slate', 'government', 'travel']"
      ]
     },
     "execution_count": 4,
     "metadata": {},
     "output_type": "execute_result"
    }
   ],
   "source": [
    "all_genre = mnli_train_data.genre.unique().tolist()\n",
    "all_genre"
   ]
  },
  {
   "cell_type": "markdown",
   "metadata": {},
   "source": [
    "## Initialize and load our best model (both NN and LR)"
   ]
  },
  {
   "cell_type": "code",
   "execution_count": 5,
   "metadata": {},
   "outputs": [],
   "source": [
    "PRE_TRAINED = False # model path should be different based on \n",
    "                   # whether the vectors are pretrained or not\n",
    "BEST_LR_MODEL = 'model_lr.pt' ###PLUG IN BEST MODEL HERE\n",
    "BEST_NN_MODEL = 'model_nn.pt' "
   ]
  },
  {
   "cell_type": "code",
   "execution_count": 6,
   "metadata": {},
   "outputs": [],
   "source": [
    "if PRE_TRAINED:\n",
    "    embed_layer, num_embed, embed_dim = load_data.create_emb_layer(load_data.create_weights(vectors, id2token), \n",
    "                                                               non_trainable = True)\n",
    "if not PRE_TRAINED:\n",
    "    num_embed = len(id2token)\n",
    "    embed_dim = EMBEDDING_DIM\n",
    "    embed_layer = nn.Embedding(num_embed, embed_dim)\n",
    "    \n",
    "lr_best_model = LogisticRegression(embed_layer, embed_dim, NUM_CLASS, 'DIRECT')\n",
    "lr_best_model.load_state_dict(torch.load(BEST_LR_MODEL))\n",
    "\n",
    "criterion = nn.NLLLoss()\n",
    "optimizer_lr = optim.Adam(lr_best_model.parameters(), lr = LEARNING_RATE)"
   ]
  },
  {
   "cell_type": "code",
   "execution_count": null,
   "metadata": {},
   "outputs": [],
   "source": [
    "nn_best_model = NeuralNetwork(embed_layer, embed_dim, NUM_CLASS, HIDDEN_DIM, 'DIRECT')\n",
    "nn_best_model.load_state_dict(torch.load(BEST_NN_MODEL))\n",
    "\n",
    "criterion = nn.NLLLoss()\n",
    "optimizer_lr = optim.Adam(nn_best_model.parameters(), lr = LEARNING_RATE)"
   ]
  },
  {
   "cell_type": "markdown",
   "metadata": {},
   "source": [
    "# 3.2 Evaluating on MultiNLI"
   ]
  },
  {
   "cell_type": "code",
   "execution_count": 8,
   "metadata": {},
   "outputs": [],
   "source": [
    "def get_data_loaders(genre):\n",
    "    mnli_train_tel = mnli_train_data[mnli_train_data['genre'] == genre]\n",
    "    mnli_val_tel = mnli_val_data[mnli_val_data['genre'] == genre]\n",
    "    indiced_train_data, train_target = load_data.token2index_dataset(mnli_train_tel, token2id)\n",
    "    indiced_val_data, val_target = load_data.token2index_dataset(mnli_val_tel, token2id)\n",
    "\n",
    "    train_dataset = load_data.SNLIDataset(indiced_train_data, train_target)\n",
    "    train_loader = torch.utils.data.DataLoader(dataset=train_dataset, \n",
    "                                               batch_size=BATCH_SIZE,\n",
    "                                               collate_fn=load_data.SNLI_collate_func,\n",
    "                                               shuffle=True)\n",
    "\n",
    "    val_dataset = load_data.SNLIDataset(indiced_val_data, val_target)\n",
    "    val_loader = torch.utils.data.DataLoader(dataset=val_dataset, \n",
    "                                               batch_size=BATCH_SIZE,\n",
    "                                               collate_fn=load_data.SNLI_collate_func,\n",
    "                                               shuffle=True)\n",
    "\n",
    "    return train_loader, val_loader"
   ]
  },
  {
   "cell_type": "code",
   "execution_count": 9,
   "metadata": {},
   "outputs": [],
   "source": [
    "model_type = {'lr': lr_best_model, 'nn': None}\n",
    "df = pd.DataFrame(index=model_type.keys(), columns=all_genre)\n",
    "for name, model in model_type.items():\n",
    "    for genre in all_genre:\n",
    "        _, val_loader = get_data_loaders(genre)\n",
    "        val_acc = acc(val_loader, model)\n",
    "        df[genre][name] = val_acc\n",
    "    break"
   ]
  },
  {
   "cell_type": "code",
   "execution_count": 12,
   "metadata": {},
   "outputs": [
    {
     "data": {
      "image/png": "[encoded data removed]",
      "text/plain": [
       "<Figure size 432x288 with 1 Axes>"
      ]
     },
     "metadata": {},
     "output_type": "display_data"
    }
   ],
   "source": [
    "df.T.plot(kind='bar', title='LR Model Accuracy Evaluated on the MNLI Eataset');"
   ]
  },
  {
   "cell_type": "code",
   "execution_count": 11,
   "metadata": {},
   "outputs": [
    {
     "data": {
      "text/html": [
       "<div>\n",
       "<style scoped>\n",
       "    .dataframe tbody tr th:only-of-type {\n",
       "        vertical-align: middle;\n",
       "    }\n",
       "\n",
       "    .dataframe tbody tr th {\n",
       "        vertical-align: top;\n",
       "    }\n",
       "\n",
       "    .dataframe thead th {\n",
       "        text-align: right;\n",
       "    }\n",
       "</style>\n",
       "<table border=\"1\" class=\"dataframe\">\n",
       "  <thead>\n",
       "    <tr style=\"text-align: right;\">\n",
       "      <th></th>\n",
       "      <th>telephone</th>\n",
       "      <th>fiction</th>\n",
       "      <th>slate</th>\n",
       "      <th>government</th>\n",
       "      <th>travel</th>\n",
       "    </tr>\n",
       "  </thead>\n",
       "  <tbody>\n",
       "    <tr>\n",
       "      <th>lr</th>\n",
       "      <td>44.3781</td>\n",
       "      <td>41.809</td>\n",
       "      <td>41.6168</td>\n",
       "      <td>40.2559</td>\n",
       "      <td>41.446</td>\n",
       "    </tr>\n",
       "    <tr>\n",
       "      <th>nn</th>\n",
       "      <td>NaN</td>\n",
       "      <td>NaN</td>\n",
       "      <td>NaN</td>\n",
       "      <td>NaN</td>\n",
       "      <td>NaN</td>\n",
       "    </tr>\n",
       "  </tbody>\n",
       "</table>\n",
       "</div>"
      ],
      "text/plain": [
       "   telephone fiction    slate government  travel\n",
       "lr   44.3781  41.809  41.6168    40.2559  41.446\n",
       "nn       NaN     NaN      NaN        NaN     NaN"
      ]
     },
     "execution_count": 11,
     "metadata": {},
     "output_type": "execute_result"
    }
   ],
   "source": [
    "df"
   ]
  },
  {
   "cell_type": "markdown",
   "metadata": {},
   "source": [
    "# 3.3 Fine-tuning on MultiNLI\n",
    "pick the best model over either NN or LR"
   ]
  },
  {
   "cell_type": "code",
   "execution_count": 13,
   "metadata": {},
   "outputs": [],
   "source": [
    "best_model = lr_best_model\n",
    "optimizer = optimizer_lr"
   ]
  },
  {
   "cell_type": "markdown",
   "metadata": {},
   "source": [
    "**Using `Telephone` below:**"
   ]
  },
  {
   "cell_type": "code",
   "execution_count": 14,
   "metadata": {},
   "outputs": [
    {
     "name": "stdout",
     "output_type": "stream",
     "text": [
      "Starting epoch 0\n",
      "End of epoch 1, Training Acc: 54.91803278688525,Validation Acc: 48.35820895522388, Time: 5.760403871536255 sec\n",
      "New best model found, saving at telephone_model.pt\n",
      "\n",
      "Starting epoch 1\n",
      "End of epoch 2, Training Acc: 66.90866510538642,Validation Acc: 45.77114427860697, Time: 11.367899894714355 sec\n",
      "\n",
      "Starting epoch 2\n",
      "End of epoch 3, Training Acc: 74.89461358313817,Validation Acc: 44.5771144278607, Time: 17.094571828842163 sec\n",
      "\n",
      "Starting epoch 3\n",
      "End of epoch 4, Training Acc: 82.29508196721312,Validation Acc: 43.582089552238806, Time: 23.727601766586304 sec\n",
      "\n",
      "Starting epoch 4\n",
      "End of epoch 5, Training Acc: 87.18969555035129,Validation Acc: 44.17910447761194, Time: 31.104445934295654 sec\n",
      "\n",
      "Starting epoch 5\n",
      "End of epoch 6, Training Acc: 88.4543325526932,Validation Acc: 43.88059701492537, Time: 37.42482089996338 sec\n",
      "\n",
      "Starting epoch 6\n",
      "End of epoch 7, Training Acc: 90.72599531615926,Validation Acc: 43.38308457711443, Time: 43.70764374732971 sec\n",
      "\n",
      "Starting epoch 7\n",
      "End of epoch 8, Training Acc: 85.64402810304449,Validation Acc: 42.18905472636816, Time: 50.02853870391846 sec\n",
      "\n",
      "Starting epoch 8\n",
      "End of epoch 9, Training Acc: 92.15456674473067,Validation Acc: 43.88059701492537, Time: 56.57109570503235 sec\n",
      "\n",
      "Starting epoch 9\n",
      "End of epoch 10, Training Acc: 92.9976580796253,Validation Acc: 41.492537313432834, Time: 63.21234583854675 sec\n",
      "\n"
     ]
    },
    {
     "data": {
      "text/plain": [
       "(LogisticRegression(\n",
       "   (embed): Embedding(9927, 200)\n",
       "   (linear): Linear(in_features=400, out_features=20, bias=True)\n",
       " ), 92.9976580796253, 41.492537313432834)"
      ]
     },
     "execution_count": 14,
     "metadata": {},
     "output_type": "execute_result"
    }
   ],
   "source": [
    "genre = 'telephone'\n",
    "train_loader, val_loader = get_data_loaders(genre)\n",
    "train_model(best_model, train_loader, val_loader, \n",
    "                     optimizer, criterion, n_epochs=10, save_file=genre+'_model.pt')"
   ]
  },
  {
   "cell_type": "code",
   "execution_count": null,
   "metadata": {},
   "outputs": [],
   "source": []
  }
 ],
 "metadata": {
  "kernelspec": {
   "display_name": "Python 3",
   "language": "python",
   "name": "python3"
  },
  "language_info": {
   "codemirror_mode": {
    "name": "ipython",
    "version": 3
   },
   "file_extension": ".py",
   "mimetype": "text/x-python",
   "name": "python",
   "nbconvert_exporter": "python",
   "pygments_lexer": "ipython3",
   "version": "3.6.8"
  }
 },
 "nbformat": 4,
 "nbformat_minor": 2
}
