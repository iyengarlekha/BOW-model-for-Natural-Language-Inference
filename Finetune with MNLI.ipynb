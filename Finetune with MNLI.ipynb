{
 "cells": [
  {
   "cell_type": "markdown",
   "metadata": {},
   "source": [
    "# Finetuning with MNLI\n",
    "\n",
    "After finding our best model, follow this notebook to finetune the model with MNLI dataset"
   ]
  },
  {
   "cell_type": "code",
   "execution_count": 49,
   "metadata": {},
   "outputs": [
    {
     "name": "stdout",
     "output_type": "stream",
     "text": [
      "The autoreload extension is already loaded. To reload it, use:\n",
      "  %reload_ext autoreload\n"
     ]
    }
   ],
   "source": [
    "%load_ext autoreload\n",
    "%autoreload 2\n",
    "\n",
    "import pandas as pd\n",
    "import pickle as pkl\n",
    "import datetime\n",
    "import random\n",
    "import numpy as np\n",
    "import torch\n",
    "import os\n",
    "import copy\n",
    "from torch.utils.data import Dataset\n",
    "\n",
    "import torch\n",
    "import torch.nn as nn\n",
    "import torch.nn.functional as F\n",
    "import torch.optim as optim\n",
    "from torch.utils.data import Dataset\n",
    "\n",
    "import matplotlib.pyplot as plt\n",
    "\n",
    "import load_data\n",
    "from models import *\n",
    "from training import *"
   ]
  },
  {
   "cell_type": "code",
   "execution_count": 25,
   "metadata": {},
   "outputs": [],
   "source": [
    "HIDDEN_DIM = 100\n",
    "MAX_SENTENCE_LENGTH = 30\n",
    "BATCH_SIZE = 32\n",
    "NUM_CLASS = 3\n",
    "LEARNING_RATE = 0.0005\n",
    "NUM_EPOCHES = 10\n",
    "\n",
    "DATA_PATH = 'data/'"
   ]
  },
  {
   "cell_type": "code",
   "execution_count": 3,
   "metadata": {},
   "outputs": [],
   "source": [
    "class LRClassifier(nn.Module):\n",
    "    def __init__(self, n_in, n_out):\n",
    "        \"\"\"\n",
    "        n_in: Number of features\n",
    "        n_out: Number of output classes\n",
    "        \"\"\"\n",
    "        super().__init__()\n",
    "        \n",
    "        # Set up out linear layer. This initializes the weights\n",
    "        self.linear = nn.Linear(n_in, n_out)\n",
    "        \n",
    "        # Explicitly initialize the weights with the initialization\n",
    "        self.init_weights()\n",
    "    \n",
    "    def forward(self, x):\n",
    "        \"\"\"\n",
    "        x: Input data [N, k]\n",
    "        ---\n",
    "        Returns: log probabilities of each class [N, c]\n",
    "        \"\"\"\n",
    "        # Apply the linear function to get our logit (real numbers)\n",
    "        logit = self.linear(x)\n",
    "        \n",
    "        # Apply log_softmax to get logs of normalized probabilities\n",
    "        return F.log_softmax(logit, dim=1)\n",
    "    \n",
    "    def init_weights(self):\n",
    "        # Use some specific initialization schemes\n",
    "        nn.init.xavier_normal_(self.linear.weight)\n",
    "        nn.init.uniform_(self.linear.bias)\n",
    "\n",
    "class NNClassifier(nn.Module):\n",
    "    def __init__(self, n_in, h_s, n_out):\n",
    "        super().__init__()\n",
    "        self.linear1 = nn.Linear(n_in,h_s)\n",
    "        self.linear2 = nn.Linear(h_s,h_s)\n",
    "        self.linear3 = nn.Linear(h_s,n_out)\n",
    "    \n",
    "    def forward(self, x):\n",
    "        x = F.relu(self.linear1(x))\n",
    "        x = self.linear2(x)\n",
    "        x = F.relu(x)\n",
    "        x = self.linear3(x)\n",
    "        return F.log_softmax(x)\n",
    "        \n",
    "\n",
    "class BOWEncoder(nn.Module):\n",
    "    def __init__(self, vocab_size, emb_dim, class_in):\n",
    "        \"\"\"\n",
    "        @param vocab_size: size of the vocabulary. \n",
    "        @param emb_dim: size of the word embedding\n",
    "        \"\"\"\n",
    "        super(BOWEncoder, self).__init__()\n",
    "        self.embed = nn.Embedding(vocab_size, emb_dim, padding_idx=0)\n",
    "        self.linear = nn.Linear(emb_dim,class_in)\n",
    "    \n",
    "    def forward(self, data, length):\n",
    "        \"\"\"\n",
    "        \n",
    "        @param data: matrix of size (batch_size, max_sentence_length). Each row in data represents a \n",
    "            review that is represented using n-gram index. Note that they are padded to have same length.\n",
    "        @param length: an int tensor of size (batch_size), which represents the non-trivial (excludes padding)\n",
    "            length of each sentences in the data.\n",
    "        \"\"\"\n",
    "        out = self.embed(data)\n",
    "        out = torch.sum(out, dim=1)\n",
    "        out /= length.view(length.size()[0],1).expand_as(out).float()\n",
    "     \n",
    "        out = self.linear(out.float())\n",
    "        return out\n",
    "\n",
    "class NNModel(nn.Module):\n",
    "    def __init__(self, vocab_size, embed_dim, n_in, h_s, n_out, combine_mode):\n",
    "        super().__init__()\n",
    "        self.encoder = BOWEncoder(vocab_size, embed_dim, n_in)\n",
    "        self.combine_mode = combine_mode\n",
    "        if self.combine_mode == 'DIRECT':\n",
    "            n_in = n_in * 2;\n",
    "        self.classifier = NNClassifier(n_in,h_s, n_out)\n",
    "    \n",
    "    def forward(self, premise, len_premise, hypothesis, len_hypo):\n",
    "        premise = self.encoder(premise, len_premise)\n",
    "        hypothesis = self.encoder(hypothesis, len_hypo)\n",
    "        if self.combine_mode == 'DIRECT':\n",
    "            x = torch.cat((premise, hypothesis),1)\n",
    "        elif self.combine_mode == 'MUL':\n",
    "            x = torch.mul(premise, hypothesis)\n",
    "        elif self.combine_mode == 'SUB':\n",
    "            x = torch.sub(premise, hypothesis)\n",
    "        x = self.classifier(x)\n",
    "        return x\n",
    "    \n",
    "class LRModel(nn.Module):\n",
    "    def __init__(self, vocab_size, embed_dim, n_in, n_out, combine_mode):\n",
    "        super().__init__()\n",
    "        self.encoder = BOWEncoder(vocab_size, embed_dim, n_in)\n",
    "        self.combine_mode = combine_mode\n",
    "        if self.combine_mode == 'DIRECT':\n",
    "            n_in = n_in * 2;\n",
    "        self.classifier = LRClassifier(n_in, n_out)\n",
    "    \n",
    "    def forward(self, premise, len_premise, hypothesis, len_hypo):\n",
    "        premise = self.encoder(premise, len_premise)\n",
    "        hypothesis = self.encoder(hypothesis, len_hypo)\n",
    "        if self.combine_mode == 'DIRECT':\n",
    "            x = torch.cat((premise, hypothesis),1)\n",
    "        elif self.combine_mode == 'MUL':\n",
    "            x = torch.mul(premise, hypothesis)\n",
    "        elif self.combine_mode == 'SUB':\n",
    "            x = torch.sub(premise, hypothesis)\n",
    "        x = self.classifier(x)\n",
    "        return x"
   ]
  },
  {
   "cell_type": "markdown",
   "metadata": {},
   "source": [
    "### Initialize MNLI data"
   ]
  },
  {
   "cell_type": "code",
   "execution_count": 4,
   "metadata": {},
   "outputs": [
    {
     "name": "stdout",
     "output_type": "stream",
     "text": [
      "Train dataset size is 20000\n",
      "Val dataset size is 5000\n"
     ]
    }
   ],
   "source": [
    "mnli_train = pd.read_csv(DATA_PATH + \"mnli_train.tsv\", sep='\\t')\n",
    "mnli_val = pd.read_csv(DATA_PATH + \"mnli_val.tsv\", sep='\\t')\n",
    "\n",
    "mnli_train_data = load_data.prepare_data(mnli_train)\n",
    "mnli_val_data = load_data.prepare_data(mnli_val)\n",
    "\n",
    "print (\"Train dataset size is {}\".format(len(mnli_train_data)))\n",
    "print (\"Val dataset size is {}\".format(len(mnli_val_data)))"
   ]
  },
  {
   "cell_type": "code",
   "execution_count": 5,
   "metadata": {},
   "outputs": [
    {
     "data": {
      "text/plain": [
       "['telephone', 'fiction', 'slate', 'government', 'travel']"
      ]
     },
     "execution_count": 5,
     "metadata": {},
     "output_type": "execute_result"
    }
   ],
   "source": [
    "all_genre = mnli_train_data.genre.unique().tolist()\n",
    "all_genre"
   ]
  },
  {
   "cell_type": "markdown",
   "metadata": {},
   "source": [
    "## Initialize and load our best model (both NN and LR)\n",
    "#### LR"
   ]
  },
  {
   "cell_type": "code",
   "execution_count": 6,
   "metadata": {},
   "outputs": [],
   "source": [
    "VOCAB_SIZE = 10000\n",
    "EMBEDDING_DIM = 50\n",
    "CAT_MODE = 'MUL'\n",
    "\n",
    "id2token_lr = pkl.load(open('pickle/'+str(VOCAB_SIZE)+'_id2token.pkl', 'rb'))\n",
    "token2id_lr = pkl.load(open('pickle/'+str(VOCAB_SIZE)+'_token2id.pkl', 'rb'))\n",
    "    \n",
    "BEST_LR_MODEL = 'models/snli/'+str(VOCAB_SIZE)+'_'+str(EMBEDDING_DIM)+'_'+CAT_MODE+'_log-reg.pt'\n",
    "num_embed = len(id2token_lr)\n",
    "# embed_layer = nn.Embedding(num_embed, embed_dim)\n",
    "lr_best_model = LRModel(VOCAB_SIZE, EMBEDDING_DIM, len(id2token_lr), NUM_CLASS, CAT_MODE)\n",
    "lr_best_model.load_state_dict(torch.load(BEST_LR_MODEL, map_location=torch.device('cpu')))\n",
    "\n",
    "criterion = nn.NLLLoss()\n",
    "optimizer_lr = optim.Adam(lr_best_model.parameters(), lr = LEARNING_RATE)"
   ]
  },
  {
   "cell_type": "markdown",
   "metadata": {},
   "source": [
    "#### NN"
   ]
  },
  {
   "cell_type": "code",
   "execution_count": 7,
   "metadata": {},
   "outputs": [],
   "source": [
    "# if PRE_TRAINED:\n",
    "#     embed_layer, num_embed, embed_dim = load_data.create_emb_layer(load_data.create_weights(vectors, id2token), \n",
    "#                                                                non_trainable = True)"
   ]
  },
  {
   "cell_type": "code",
   "execution_count": 8,
   "metadata": {},
   "outputs": [],
   "source": [
    "VOCAB_SIZE = 10000\n",
    "EMBEDDING_DIM = 500\n",
    "CAT_MODE = 'MUL'\n",
    "\n",
    "id2token_nn = pkl.load(open('pickle/'+str(VOCAB_SIZE)+'_id2token.pkl', 'rb'))\n",
    "token2id_nn = pkl.load(open('pickle/'+str(VOCAB_SIZE)+'_token2id.pkl', 'rb'))\n",
    "    \n",
    "BEST_NN_MODEL = 'models/snli/'+str(VOCAB_SIZE)+'_'+str(EMBEDDING_DIM)+'_'+CAT_MODE+'_neural-net.pt'\n",
    "num_embed = len(id2token_nn)\n",
    "embed_dim = EMBEDDING_DIM\n",
    "embed_layer = nn.Embedding(num_embed, embed_dim)\n",
    "nn_best_model = NNModel(VOCAB_SIZE, EMBEDDING_DIM, len(id2token_nn) , HIDDEN_DIM, NUM_CLASS, CAT_MODE)\n",
    "nn_best_model.load_state_dict(torch.load(BEST_NN_MODEL, map_location=torch.device('cpu')))\n",
    "\n",
    "criterion = nn.NLLLoss()\n",
    "optimizer_nn = optim.Adam(nn_best_model.parameters(), lr = LEARNING_RATE)"
   ]
  },
  {
   "cell_type": "markdown",
   "metadata": {},
   "source": [
    "# 3.2 Evaluating on MultiNLI"
   ]
  },
  {
   "cell_type": "code",
   "execution_count": 9,
   "metadata": {},
   "outputs": [],
   "source": [
    "def get_data_loaders(genre, token2id):\n",
    "    mnli_train_tel = mnli_train_data[mnli_train_data['genre'] == genre]\n",
    "    mnli_val_tel = mnli_val_data[mnli_val_data['genre'] == genre]\n",
    "    indiced_train_data, train_target = load_data.token2index_dataset(mnli_train_tel, token2id)\n",
    "    indiced_val_data, val_target = load_data.token2index_dataset(mnli_val_tel, token2id)\n",
    "\n",
    "    train_dataset = load_data.SNLIDataset(indiced_train_data, train_target)\n",
    "    train_loader = torch.utils.data.DataLoader(dataset=train_dataset, \n",
    "                                               batch_size=BATCH_SIZE,\n",
    "                                               collate_fn=load_data.SNLI_collate_func,\n",
    "                                               shuffle=True)\n",
    "\n",
    "    val_dataset = load_data.SNLIDataset(indiced_val_data, val_target)\n",
    "    val_loader = torch.utils.data.DataLoader(dataset=val_dataset, \n",
    "                                               batch_size=BATCH_SIZE,\n",
    "                                               collate_fn=load_data.SNLI_collate_func,\n",
    "                                               shuffle=True)\n",
    "\n",
    "    return train_loader, val_loader"
   ]
  },
  {
   "cell_type": "code",
   "execution_count": 20,
   "metadata": {},
   "outputs": [
    {
     "name": "stderr",
     "output_type": "stream",
     "text": [
      "/anaconda3/envs/dsga_nlp/lib/python3.6/site-packages/ipykernel_launcher.py:44: UserWarning: Implicit dimension choice for log_softmax has been deprecated. Change the call to include dim=X as an argument.\n"
     ]
    }
   ],
   "source": [
    "model_type = {'lr': (lr_best_model, token2id_lr), 'nn': (nn_best_model, token2id_nn)}\n",
    "df_eval = pd.DataFrame(index=model_type.keys(), columns=all_genre)\n",
    "for name, (model, token2id) in model_type.items():\n",
    "    for genre in all_genre:\n",
    "        _, val_loader = get_data_loaders(genre, token2id)\n",
    "        val_acc = acc(val_loader, model)\n",
    "        df_eval[genre][name] = val_acc"
   ]
  },
  {
   "cell_type": "code",
   "execution_count": 21,
   "metadata": {},
   "outputs": [
    {
     "data": {
      "image/png": "[encoded data removed]",
      "text/plain": [
       "<Figure size 576x288 with 1 Axes>"
      ]
     },
     "metadata": {
      "needs_background": "light"
     },
     "output_type": "display_data"
    }
   ],
   "source": [
    "ax = df_eval.T.plot(kind='bar', title='Model Accuracy Evaluated on the MNLI Dataset\\n(without pre-trained embeddings)', \n",
    "               figsize=(8, 4), width=0.8, ylim=(30,55), rot=0)\n",
    "ax.legend(loc='lower right')\n",
    "for p in ax.patches:\n",
    "    ax.annotate(str(p.get_height())[:4], xy=(p.get_x()+0.05, p.get_height()+1))"
   ]
  },
  {
   "cell_type": "code",
   "execution_count": 22,
   "metadata": {},
   "outputs": [
    {
     "data": {
      "text/html": [
       "<div>\n",
       "<style scoped>\n",
       "    .dataframe tbody tr th:only-of-type {\n",
       "        vertical-align: middle;\n",
       "    }\n",
       "\n",
       "    .dataframe tbody tr th {\n",
       "        vertical-align: top;\n",
       "    }\n",
       "\n",
       "    .dataframe thead th {\n",
       "        text-align: right;\n",
       "    }\n",
       "</style>\n",
       "<table border=\"1\" class=\"dataframe\">\n",
       "  <thead>\n",
       "    <tr style=\"text-align: right;\">\n",
       "      <th></th>\n",
       "      <th>telephone</th>\n",
       "      <th>fiction</th>\n",
       "      <th>slate</th>\n",
       "      <th>government</th>\n",
       "      <th>travel</th>\n",
       "    </tr>\n",
       "  </thead>\n",
       "  <tbody>\n",
       "    <tr>\n",
       "      <td>lr</td>\n",
       "      <td>38.5075</td>\n",
       "      <td>43.3166</td>\n",
       "      <td>39.7206</td>\n",
       "      <td>40.2559</td>\n",
       "      <td>40.1222</td>\n",
       "    </tr>\n",
       "    <tr>\n",
       "      <td>nn</td>\n",
       "      <td>39.7015</td>\n",
       "      <td>44.4221</td>\n",
       "      <td>37.525</td>\n",
       "      <td>39.4685</td>\n",
       "      <td>41.5479</td>\n",
       "    </tr>\n",
       "  </tbody>\n",
       "</table>\n",
       "</div>"
      ],
      "text/plain": [
       "   telephone  fiction    slate government   travel\n",
       "lr   38.5075  43.3166  39.7206    40.2559  40.1222\n",
       "nn   39.7015  44.4221   37.525    39.4685  41.5479"
      ]
     },
     "execution_count": 22,
     "metadata": {},
     "output_type": "execute_result"
    }
   ],
   "source": [
    "df_eval"
   ]
  },
  {
   "cell_type": "markdown",
   "metadata": {},
   "source": [
    "# 3.3 Fine-tuning on MultiNLI\n",
    "pick the best model over either NN or LR"
   ]
  },
  {
   "cell_type": "code",
   "execution_count": 23,
   "metadata": {},
   "outputs": [],
   "source": [
    "SAVE_FOLDER = os.path.join('models', 'mnli')\n",
    "if not os.path.exists(SAVE_FOLDER):\n",
    "    os.makedirs(SAVE_FOLDER)"
   ]
  },
  {
   "cell_type": "code",
   "execution_count": 27,
   "metadata": {},
   "outputs": [
    {
     "name": "stdout",
     "output_type": "stream",
     "text": [
      "****************************** telephone ******************************\n",
      "Starting epoch 0\n"
     ]
    },
    {
     "name": "stderr",
     "output_type": "stream",
     "text": [
      "/anaconda3/envs/dsga_nlp/lib/python3.6/site-packages/ipykernel_launcher.py:44: UserWarning: Implicit dimension choice for log_softmax has been deprecated. Change the call to include dim=X as an argument.\n"
     ]
    },
    {
     "name": "stdout",
     "output_type": "stream",
     "text": [
      "End of epoch 1, Training Acc: 49.90632318501171, Validation Acc: 42.48756218905473, Time: 22.62072491645813 sec\n",
      "New best model found, saving at models/mnli/telephone_model.pt\n",
      "\n",
      "Starting epoch 1\n",
      "End of epoch 2, Training Acc: 59.39110070257611, Validation Acc: 45.57213930348259, Time: 45.63621497154236 sec\n",
      "New best model found, saving at models/mnli/telephone_model.pt\n",
      "\n",
      "Starting epoch 2\n",
      "End of epoch 3, Training Acc: 69.13348946135831, Validation Acc: 47.2636815920398, Time: 67.93644595146179 sec\n",
      "New best model found, saving at models/mnli/telephone_model.pt\n",
      "\n",
      "Starting epoch 3\n",
      "End of epoch 4, Training Acc: 76.46370023419203, Validation Acc: 47.66169154228856, Time: 90.81456899642944 sec\n",
      "New best model found, saving at models/mnli/telephone_model.pt\n",
      "\n",
      "Starting epoch 4\n",
      "End of epoch 5, Training Acc: 83.95784543325527, Validation Acc: 47.76119402985075, Time: 114.2245659828186 sec\n",
      "New best model found, saving at models/mnli/telephone_model.pt\n",
      "\n",
      "Starting epoch 5\n",
      "End of epoch 6, Training Acc: 91.14754098360656, Validation Acc: 46.26865671641791, Time: 136.54367804527283 sec\n",
      "\n",
      "Starting epoch 6\n",
      "End of epoch 7, Training Acc: 94.02810304449649, Validation Acc: 47.36318407960199, Time: 158.4883017539978 sec\n",
      "\n",
      "Starting epoch 7\n",
      "End of epoch 8, Training Acc: 95.85480093676814, Validation Acc: 43.88059701492537, Time: 181.71604800224304 sec\n",
      "\n",
      "Starting epoch 8\n",
      "End of epoch 9, Training Acc: 94.30913348946136, Validation Acc: 45.57213930348259, Time: 204.9740149974823 sec\n",
      "\n",
      "Starting epoch 9\n",
      "End of epoch 10, Training Acc: 98.10304449648712, Validation Acc: 48.55721393034826, Time: 227.2896499633789 sec\n",
      "New best model found, saving at models/mnli/telephone_model.pt\n",
      "\n",
      "****************************** fiction ******************************\n",
      "Starting epoch 0\n",
      "End of epoch 1, Training Acc: 51.32950990615224, Validation Acc: 42.01005025125628, Time: 18.786752939224243 sec\n",
      "New best model found, saving at models/mnli/fiction_model.pt\n",
      "\n",
      "Starting epoch 1\n",
      "End of epoch 2, Training Acc: 57.924921793534935, Validation Acc: 43.91959798994975, Time: 38.18755507469177 sec\n",
      "New best model found, saving at models/mnli/fiction_model.pt\n",
      "\n",
      "Starting epoch 2\n",
      "End of epoch 3, Training Acc: 68.87382690302398, Validation Acc: 44.42211055276382, Time: 60.53685712814331 sec\n",
      "New best model found, saving at models/mnli/fiction_model.pt\n",
      "\n",
      "Starting epoch 3\n",
      "End of epoch 4, Training Acc: 75.54744525547446, Validation Acc: 43.618090452261306, Time: 82.53441095352173 sec\n",
      "\n",
      "Starting epoch 4\n",
      "End of epoch 5, Training Acc: 81.12617309697602, Validation Acc: 43.81909547738694, Time: 103.5166449546814 sec\n",
      "\n",
      "Starting epoch 5\n",
      "End of epoch 6, Training Acc: 87.93013555787279, Validation Acc: 43.517587939698494, Time: 124.8338520526886 sec\n",
      "\n",
      "Starting epoch 6\n",
      "End of epoch 7, Training Acc: 89.28571428571429, Validation Acc: 45.12562814070352, Time: 145.75705790519714 sec\n",
      "New best model found, saving at models/mnli/fiction_model.pt\n",
      "\n",
      "Starting epoch 7\n",
      "End of epoch 8, Training Acc: 95.4118873826903, Validation Acc: 45.32663316582914, Time: 167.11384320259094 sec\n",
      "New best model found, saving at models/mnli/fiction_model.pt\n",
      "\n",
      "Starting epoch 8\n",
      "End of epoch 9, Training Acc: 96.2460896767466, Validation Acc: 44.321608040201006, Time: 188.26370406150818 sec\n",
      "\n",
      "Starting epoch 9\n",
      "End of epoch 10, Training Acc: 97.4191866527633, Validation Acc: 45.62814070351759, Time: 209.39717817306519 sec\n",
      "New best model found, saving at models/mnli/fiction_model.pt\n",
      "\n",
      "****************************** slate ******************************\n",
      "Starting epoch 0\n",
      "End of epoch 1, Training Acc: 50.0, Validation Acc: 41.417165668662676, Time: 22.381994247436523 sec\n",
      "New best model found, saving at models/mnli/slate_model.pt\n",
      "\n",
      "Starting epoch 1\n",
      "End of epoch 2, Training Acc: 56.23447590660705, Validation Acc: 41.91616766467066, Time: 44.21225118637085 sec\n",
      "New best model found, saving at models/mnli/slate_model.pt\n",
      "\n",
      "Starting epoch 2\n",
      "End of epoch 3, Training Acc: 63.164431197218086, Validation Acc: 42.71457085828343, Time: 66.37269020080566 sec\n",
      "New best model found, saving at models/mnli/slate_model.pt\n",
      "\n",
      "Starting epoch 3\n",
      "End of epoch 4, Training Acc: 66.02086438152011, Validation Acc: 42.61477045908184, Time: 88.75242233276367 sec\n",
      "\n",
      "Starting epoch 4\n",
      "End of epoch 5, Training Acc: 72.28017883755588, Validation Acc: 41.11776447105788, Time: 110.60460901260376 sec\n",
      "\n",
      "Starting epoch 5\n",
      "End of epoch 6, Training Acc: 80.79980129160457, Validation Acc: 41.81636726546906, Time: 129.85733914375305 sec\n",
      "\n",
      "Starting epoch 6\n",
      "End of epoch 7, Training Acc: 83.75558867362146, Validation Acc: 43.41317365269461, Time: 148.93336129188538 sec\n",
      "New best model found, saving at models/mnli/slate_model.pt\n",
      "\n",
      "Starting epoch 7\n",
      "End of epoch 8, Training Acc: 85.41977148534525, Validation Acc: 44.31137724550898, Time: 170.22293519973755 sec\n",
      "New best model found, saving at models/mnli/slate_model.pt\n",
      "\n",
      "Starting epoch 8\n",
      "End of epoch 9, Training Acc: 90.06458022851466, Validation Acc: 43.11377245508982, Time: 194.28474712371826 sec\n",
      "\n",
      "Starting epoch 9\n",
      "End of epoch 10, Training Acc: 93.88971684053651, Validation Acc: 43.91217564870259, Time: 218.60456609725952 sec\n",
      "\n",
      "****************************** government ******************************\n",
      "Starting epoch 0\n",
      "End of epoch 1, Training Acc: 48.57069276332732, Validation Acc: 38.976377952755904, Time: 21.870332956314087 sec\n",
      "New best model found, saving at models/mnli/government_model.pt\n",
      "\n",
      "Starting epoch 1\n",
      "End of epoch 2, Training Acc: 52.150399175894925, Validation Acc: 39.56692913385827, Time: 44.06416893005371 sec\n",
      "New best model found, saving at models/mnli/government_model.pt\n",
      "\n",
      "Starting epoch 2\n",
      "End of epoch 3, Training Acc: 60.03090394025238, Validation Acc: 47.44094488188976, Time: 71.1970739364624 sec\n",
      "New best model found, saving at models/mnli/government_model.pt\n",
      "\n",
      "Starting epoch 3\n",
      "End of epoch 4, Training Acc: 58.640226628895185, Validation Acc: 49.40944881889764, Time: 95.24722099304199 sec\n",
      "New best model found, saving at models/mnli/government_model.pt\n",
      "\n",
      "Starting epoch 4\n",
      "End of epoch 5, Training Acc: 63.8166366211692, Validation Acc: 43.30708661417323, Time: 119.36631417274475 sec\n",
      "\n",
      "Starting epoch 5\n",
      "End of epoch 6, Training Acc: 72.70151944372907, Validation Acc: 50.0, Time: 141.274884223938 sec\n",
      "New best model found, saving at models/mnli/government_model.pt\n",
      "\n",
      "Starting epoch 6\n",
      "End of epoch 7, Training Acc: 76.30697913984032, Validation Acc: 47.24409448818898, Time: 166.46209692955017 sec\n",
      "\n",
      "Starting epoch 7\n",
      "End of epoch 8, Training Acc: 81.94694823590008, Validation Acc: 49.311023622047244, Time: 188.63724303245544 sec\n",
      "\n",
      "Starting epoch 8\n",
      "End of epoch 9, Training Acc: 84.75405614215812, Validation Acc: 49.01574803149607, Time: 210.70006203651428 sec\n",
      "\n",
      "Starting epoch 9\n",
      "End of epoch 10, Training Acc: 86.73705897501931, Validation Acc: 47.73622047244095, Time: 233.7992389202118 sec\n",
      "\n",
      "****************************** travel ******************************\n",
      "Starting epoch 0\n",
      "End of epoch 1, Training Acc: 51.66875784190715, Validation Acc: 46.23217922606925, Time: 23.53989887237549 sec\n",
      "New best model found, saving at models/mnli/travel_model.pt\n",
      "\n",
      "Starting epoch 1\n",
      "End of epoch 2, Training Acc: 57.18946047678796, Validation Acc: 47.55600814663951, Time: 50.372880697250366 sec\n",
      "New best model found, saving at models/mnli/travel_model.pt\n",
      "\n",
      "Starting epoch 2\n",
      "End of epoch 3, Training Acc: 64.99372647427855, Validation Acc: 50.610997963340125, Time: 74.82395792007446 sec\n",
      "New best model found, saving at models/mnli/travel_model.pt\n",
      "\n",
      "Starting epoch 3\n",
      "End of epoch 4, Training Acc: 73.37515683814304, Validation Acc: 50.30549898167006, Time: 100.36771774291992 sec\n",
      "\n",
      "Starting epoch 4\n",
      "End of epoch 5, Training Acc: 77.76662484316185, Validation Acc: 49.69450101832994, Time: 125.58171892166138 sec\n",
      "\n",
      "Starting epoch 5\n",
      "End of epoch 6, Training Acc: 83.26223337515684, Validation Acc: 48.16700610997963, Time: 150.24844574928284 sec\n",
      "\n",
      "Starting epoch 6\n",
      "End of epoch 7, Training Acc: 82.9861982434128, Validation Acc: 48.472505091649694, Time: 175.3660967350006 sec\n",
      "\n",
      "Starting epoch 7\n",
      "End of epoch 8, Training Acc: 90.71518193224593, Validation Acc: 47.55600814663951, Time: 200.1575858592987 sec\n",
      "\n",
      "Starting epoch 8\n",
      "End of epoch 9, Training Acc: 94.37892095357591, Validation Acc: 49.389002036659875, Time: 224.11666083335876 sec\n",
      "\n",
      "Starting epoch 9\n",
      "End of epoch 10, Training Acc: 96.11041405269762, Validation Acc: 48.37067209775967, Time: 249.88521695137024 sec\n",
      "\n"
     ]
    }
   ],
   "source": [
    "# for genre in all_genre:\n",
    "#     print('*'*30, genre, '*'*30)\n",
    "#     best_model = copy.deepcopy(nn_best_model)\n",
    "#     optimizer = optimizer_nn\n",
    "#     token2id = token2id_nn\n",
    "#     criterion = nn.NLLLoss()\n",
    "#     optimizer = optim.Adam(best_model.parameters(), lr = LEARNING_RATE)\n",
    "#     train_loader, val_loader = get_data_loaders(genre, token2id)\n",
    "#     train_model(best_model, train_loader, val_loader, \n",
    "#                      optimizer, criterion, n_epochs=10, save_file=SAVE_FOLDER+'/'+genre+'_model.pt')"
   ]
  },
  {
   "cell_type": "code",
   "execution_count": 30,
   "metadata": {},
   "outputs": [
    {
     "data": {
      "text/plain": [
       "<All keys matched successfully>"
      ]
     },
     "execution_count": 30,
     "metadata": {},
     "output_type": "execute_result"
    }
   ],
   "source": [
    "telephone_model = NNModel(VOCAB_SIZE, EMBEDDING_DIM, len(id2token_nn) , HIDDEN_DIM, NUM_CLASS, CAT_MODE)\n",
    "telephone_model.load_state_dict(torch.load(SAVE_FOLDER+'/telephone_model.pt'))\n",
    "\n",
    "fiction_model = NNModel(VOCAB_SIZE, EMBEDDING_DIM, len(id2token_nn) , HIDDEN_DIM, NUM_CLASS, CAT_MODE)\n",
    "fiction_model.load_state_dict(torch.load(SAVE_FOLDER+'/fiction_model.pt'))\n",
    "\n",
    "slate_model = NNModel(VOCAB_SIZE, EMBEDDING_DIM, len(id2token_nn) , HIDDEN_DIM, NUM_CLASS, CAT_MODE)\n",
    "slate_model.load_state_dict(torch.load(SAVE_FOLDER+'/slate_model.pt'))\n",
    "\n",
    "government_model = NNModel(VOCAB_SIZE, EMBEDDING_DIM, len(id2token_nn) , HIDDEN_DIM, NUM_CLASS, CAT_MODE)\n",
    "government_model.load_state_dict(torch.load(SAVE_FOLDER+'/government_model.pt'))\n",
    "\n",
    "travel_model = NNModel(VOCAB_SIZE, EMBEDDING_DIM, len(id2token_nn) , HIDDEN_DIM, NUM_CLASS, CAT_MODE)\n",
    "travel_model.load_state_dict(torch.load(SAVE_FOLDER+'/travel_model.pt'))"
   ]
  },
  {
   "cell_type": "code",
   "execution_count": 31,
   "metadata": {},
   "outputs": [],
   "source": [
    "finetuned_models = {'telephone_model': telephone_model, \n",
    "                    'fiction_model': fiction_model, \n",
    "                    'slate_model': slate_model, \n",
    "                    'government_model': government_model, \n",
    "                    'travel_model': travel_model}"
   ]
  },
  {
   "cell_type": "code",
   "execution_count": 32,
   "metadata": {},
   "outputs": [
    {
     "name": "stderr",
     "output_type": "stream",
     "text": [
      "/anaconda3/envs/dsga_nlp/lib/python3.6/site-packages/ipykernel_launcher.py:44: UserWarning: Implicit dimension choice for log_softmax has been deprecated. Change the call to include dim=X as an argument.\n"
     ]
    }
   ],
   "source": [
    "df = pd.DataFrame(index=finetuned_models, columns=all_genre)\n",
    "for model_type, model in finetuned_models.items():\n",
    "    for genre in all_genre:\n",
    "        _, val_loader = get_data_loaders(genre, token2id)\n",
    "        val_acc = acc(val_loader, model)\n",
    "        df[genre][model_type] = val_acc"
   ]
  },
  {
   "cell_type": "code",
   "execution_count": 33,
   "metadata": {},
   "outputs": [
    {
     "data": {
      "text/html": [
       "<div>\n",
       "<style scoped>\n",
       "    .dataframe tbody tr th:only-of-type {\n",
       "        vertical-align: middle;\n",
       "    }\n",
       "\n",
       "    .dataframe tbody tr th {\n",
       "        vertical-align: top;\n",
       "    }\n",
       "\n",
       "    .dataframe thead th {\n",
       "        text-align: right;\n",
       "    }\n",
       "</style>\n",
       "<table border=\"1\" class=\"dataframe\">\n",
       "  <thead>\n",
       "    <tr style=\"text-align: right;\">\n",
       "      <th></th>\n",
       "      <th>telephone</th>\n",
       "      <th>fiction</th>\n",
       "      <th>slate</th>\n",
       "      <th>government</th>\n",
       "      <th>travel</th>\n",
       "    </tr>\n",
       "  </thead>\n",
       "  <tbody>\n",
       "    <tr>\n",
       "      <td>telephone_model</td>\n",
       "      <td>48.5572</td>\n",
       "      <td>45.3266</td>\n",
       "      <td>41.7166</td>\n",
       "      <td>44.8819</td>\n",
       "      <td>44.8065</td>\n",
       "    </tr>\n",
       "    <tr>\n",
       "      <td>fiction_model</td>\n",
       "      <td>43.5821</td>\n",
       "      <td>45.6281</td>\n",
       "      <td>40.3194</td>\n",
       "      <td>42.0276</td>\n",
       "      <td>43.7882</td>\n",
       "    </tr>\n",
       "    <tr>\n",
       "      <td>slate_model</td>\n",
       "      <td>44.1791</td>\n",
       "      <td>43.1156</td>\n",
       "      <td>44.3114</td>\n",
       "      <td>44.685</td>\n",
       "      <td>47.1487</td>\n",
       "    </tr>\n",
       "    <tr>\n",
       "      <td>government_model</td>\n",
       "      <td>46.4677</td>\n",
       "      <td>46.3317</td>\n",
       "      <td>43.6128</td>\n",
       "      <td>50</td>\n",
       "      <td>49.1853</td>\n",
       "    </tr>\n",
       "    <tr>\n",
       "      <td>travel_model</td>\n",
       "      <td>46.8657</td>\n",
       "      <td>45.7286</td>\n",
       "      <td>43.513</td>\n",
       "      <td>49.9016</td>\n",
       "      <td>50.611</td>\n",
       "    </tr>\n",
       "  </tbody>\n",
       "</table>\n",
       "</div>"
      ],
      "text/plain": [
       "                 telephone  fiction    slate government   travel\n",
       "telephone_model    48.5572  45.3266  41.7166    44.8819  44.8065\n",
       "fiction_model      43.5821  45.6281  40.3194    42.0276  43.7882\n",
       "slate_model        44.1791  43.1156  44.3114     44.685  47.1487\n",
       "government_model   46.4677  46.3317  43.6128         50  49.1853\n",
       "travel_model       46.8657  45.7286   43.513    49.9016   50.611"
      ]
     },
     "execution_count": 33,
     "metadata": {},
     "output_type": "execute_result"
    }
   ],
   "source": [
    "df"
   ]
  },
  {
   "cell_type": "code",
   "execution_count": 101,
   "metadata": {},
   "outputs": [
    {
     "data": {
      "image/png": "[encoded data removed]",
      "text/plain": [
       "<Figure size 1008x288 with 1 Axes>"
      ]
     },
     "metadata": {
      "needs_background": "light"
     },
     "output_type": "display_data"
    }
   ],
   "source": [
    "ax = df.T.plot(kind='bar', title='Neural Net Accuracy (Finetuned using each genre from the MNLI dataset)', \n",
    "             figsize=(14, 4), width=0.8, ylim=(30,55), rot=0)\n",
    "ax.legend(loc='lower right')\n",
    "for p in ax.patches:\n",
    "    ax.annotate(str(p.get_height())[:4], xy=(p.get_x(), p.get_height()+1))"
   ]
  },
  {
   "cell_type": "markdown",
   "metadata": {},
   "source": [
    "The finetuned models are uploaded to [this gdrive folder](https://drive.google.com/drive/folders/1TRwEd7O2ifC72eBJBJ1-zTBfG0nUC1tF?usp=sharing)."
   ]
  },
  {
   "cell_type": "code",
   "execution_count": 97,
   "metadata": {},
   "outputs": [],
   "source": [
    "df_individual = pd.DataFrame([df['telephone']['telephone_model'], \n",
    "                              df['fiction']['fiction_model'], \n",
    "                              df['slate']['slate_model'], \n",
    "                              df['government']['government_model'], \n",
    "                              df['travel']['travel_model']], index=all_genre, columns=['nn finetuned'])\n",
    "df_before_and_after = pd.concat([df_eval.loc['nn':],df_individual.T])"
   ]
  },
  {
   "cell_type": "code",
   "execution_count": 100,
   "metadata": {},
   "outputs": [
    {
     "data": {
      "image/png": "[encoded data removed]",
      "text/plain": [
       "<Figure size 576x288 with 1 Axes>"
      ]
     },
     "metadata": {
      "needs_background": "light"
     },
     "output_type": "display_data"
    }
   ],
   "source": [
    "ax = df_before_and_after.T.plot(kind='bar', title='Neural Net Accuracy Evaluated on the MNLI Dataset\\n(comparison before and after finetuning)', \n",
    "             figsize=(8, 4), width=0.8, ylim=(30,55), rot=0)\n",
    "ax.legend(loc='lower right')\n",
    "for p in ax.patches:\n",
    "    ax.annotate(str(p.get_height())[:4], xy=(p.get_x(), p.get_height()+1))"
   ]
  },
  {
   "cell_type": "code",
   "execution_count": null,
   "metadata": {},
   "outputs": [],
   "source": []
  }
 ],
 "metadata": {
  "kernelspec": {
   "display_name": "Python 3",
   "language": "python",
   "name": "python3"
  },
  "language_info": {
   "codemirror_mode": {
    "name": "ipython",
    "version": 3
   },
   "file_extension": ".py",
   "mimetype": "text/x-python",
   "name": "python",
   "nbconvert_exporter": "python",
   "pygments_lexer": "ipython3",
   "version": "3.6.9"
  }
 },
 "nbformat": 4,
 "nbformat_minor": 4
}
