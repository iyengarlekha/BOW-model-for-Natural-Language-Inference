{
 "cells": [
  {
   "cell_type": "markdown",
   "metadata": {},
   "source": [
    "# Finetuning with MNLI\n",
    "\n",
    "After finding our best model, follow this notebook to finetune the model with MNLI dataset"
   ]
  },
  {
   "cell_type": "code",
   "execution_count": 1,
   "metadata": {},
   "outputs": [],
   "source": [
    "%load_ext autoreload\n",
    "%autoreload 2\n",
    "\n",
    "import pandas as pd\n",
    "import pickle as pkl\n",
    "import datetime\n",
    "import random\n",
    "import numpy as np\n",
    "import torch\n",
    "import os\n",
    "import copy\n",
    "from torch.utils.data import Dataset\n",
    "\n",
    "import torch\n",
    "import torch.nn as nn\n",
    "import torch.nn.functional as F\n",
    "import torch.optim as optim\n",
    "from torch.utils.data import Dataset\n",
    "\n",
    "import matplotlib.pyplot as plt\n",
    "\n",
    "import load_data\n",
    "# from models import *\n",
    "from training import *"
   ]
  },
  {
   "cell_type": "code",
   "execution_count": 2,
   "metadata": {},
   "outputs": [],
   "source": [
    "HIDDEN_DIM = 100\n",
    "MAX_SENTENCE_LENGTH = 30\n",
    "BATCH_SIZE = 32\n",
    "NUM_CLASS = 3\n",
    "LEARNING_RATE = 0.0005\n",
    "NUM_EPOCHES = 10\n",
    "\n",
    "DATA_PATH = 'data/'"
   ]
  },
  {
   "cell_type": "code",
   "execution_count": 3,
   "metadata": {},
   "outputs": [],
   "source": [
    "class LRClassifier(nn.Module):\n",
    "    def __init__(self, n_in, n_out):\n",
    "        \"\"\"\n",
    "        n_in: Number of features\n",
    "        n_out: Number of output classes\n",
    "        \"\"\"\n",
    "        super().__init__()\n",
    "        \n",
    "        # Set up out linear layer. This initializes the weights\n",
    "        self.linear = nn.Linear(n_in, n_out)\n",
    "        \n",
    "        # Explicitly initialize the weights with the initialization\n",
    "        self.init_weights()\n",
    "    \n",
    "    def forward(self, x):\n",
    "        \"\"\"\n",
    "        x: Input data [N, k]\n",
    "        ---\n",
    "        Returns: log probabilities of each class [N, c]\n",
    "        \"\"\"\n",
    "        # Apply the linear function to get our logit (real numbers)\n",
    "        logit = self.linear(x)\n",
    "        \n",
    "        # Apply log_softmax to get logs of normalized probabilities\n",
    "        return F.log_softmax(logit, dim=1)\n",
    "    \n",
    "    def init_weights(self):\n",
    "        # Use some specific initialization schemes\n",
    "        nn.init.xavier_normal_(self.linear.weight)\n",
    "        nn.init.uniform_(self.linear.bias)\n",
    "\n",
    "class NNClassifier(nn.Module):\n",
    "    def __init__(self, n_in, h_s, n_out):\n",
    "        super().__init__()\n",
    "        self.linear1 = nn.Linear(n_in,h_s)\n",
    "        self.linear2 = nn.Linear(h_s,h_s)\n",
    "        self.linear3 = nn.Linear(h_s,n_out)\n",
    "    \n",
    "    def forward(self, x):\n",
    "        x = F.relu(self.linear1(x))\n",
    "        x = self.linear2(x)\n",
    "        x = F.relu(x)\n",
    "        x = self.linear3(x)\n",
    "        return F.log_softmax(x)\n",
    "        \n",
    "\n",
    "class BOWEncoder(nn.Module):\n",
    "    def __init__(self, vocab_size, emb_dim, class_in):\n",
    "        \"\"\"\n",
    "        @param vocab_size: size of the vocabulary. \n",
    "        @param emb_dim: size of the word embedding\n",
    "        \"\"\"\n",
    "        super(BOWEncoder, self).__init__()\n",
    "        self.embed = nn.Embedding(vocab_size, emb_dim, padding_idx=0)\n",
    "        self.linear = nn.Linear(emb_dim,class_in)\n",
    "    \n",
    "    def forward(self, data, length):\n",
    "        \"\"\"\n",
    "        \n",
    "        @param data: matrix of size (batch_size, max_sentence_length). Each row in data represents a \n",
    "            review that is represented using n-gram index. Note that they are padded to have same length.\n",
    "        @param length: an int tensor of size (batch_size), which represents the non-trivial (excludes padding)\n",
    "            length of each sentences in the data.\n",
    "        \"\"\"\n",
    "        out = self.embed(data)\n",
    "        out = torch.sum(out, dim=1)\n",
    "        out /= length.view(length.size()[0],1).expand_as(out).float()\n",
    "     \n",
    "        out = self.linear(out.float())\n",
    "        return out\n",
    "\n",
    "class NNModel(nn.Module):\n",
    "    def __init__(self, vocab_size, embed_dim, n_in, h_s, n_out, combine_mode):\n",
    "        super().__init__()\n",
    "        self.encoder = BOWEncoder(vocab_size, embed_dim, n_in)\n",
    "        self.combine_mode = combine_mode\n",
    "        if self.combine_mode == 'DIRECT':\n",
    "            n_in = n_in * 2;\n",
    "        self.classifier = NNClassifier(n_in,h_s, n_out)\n",
    "    \n",
    "    def forward(self, premise, len_premise, hypothesis, len_hypo):\n",
    "        premise = self.encoder(premise, len_premise)\n",
    "        hypothesis = self.encoder(hypothesis, len_hypo)\n",
    "        if self.combine_mode == 'DIRECT':\n",
    "            x = torch.cat((premise, hypothesis),1)\n",
    "        elif self.combine_mode == 'MUL':\n",
    "            x = torch.mul(premise, hypothesis)\n",
    "        elif self.combine_mode == 'SUB':\n",
    "            x = torch.sub(premise, hypothesis)\n",
    "        x = self.classifier(x)\n",
    "        return x\n",
    "    \n",
    "class LRModel(nn.Module):\n",
    "    def __init__(self, vocab_size, embed_dim, n_in, n_out, combine_mode):\n",
    "        super().__init__()\n",
    "        self.encoder = BOWEncoder(vocab_size, embed_dim, n_in)\n",
    "        self.combine_mode = combine_mode\n",
    "        if self.combine_mode == 'DIRECT':\n",
    "            n_in = n_in * 2;\n",
    "        self.classifier = LRClassifier(n_in, n_out)\n",
    "    \n",
    "    def forward(self, premise, len_premise, hypothesis, len_hypo):\n",
    "        premise = self.encoder(premise, len_premise)\n",
    "        hypothesis = self.encoder(hypothesis, len_hypo)\n",
    "        if self.combine_mode == 'DIRECT':\n",
    "            x = torch.cat((premise, hypothesis),1)\n",
    "        elif self.combine_mode == 'MUL':\n",
    "            x = torch.mul(premise, hypothesis)\n",
    "        elif self.combine_mode == 'SUB':\n",
    "            x = torch.sub(premise, hypothesis)\n",
    "        x = self.classifier(x)\n",
    "        return x"
   ]
  },
  {
   "cell_type": "markdown",
   "metadata": {},
   "source": [
    "### Initialize MNLI data"
   ]
  },
  {
   "cell_type": "code",
   "execution_count": 4,
   "metadata": {},
   "outputs": [
    {
     "name": "stdout",
     "output_type": "stream",
     "text": [
      "Train dataset size is 20000\n",
      "Val dataset size is 5000\n"
     ]
    }
   ],
   "source": [
    "mnli_train = pd.read_csv(DATA_PATH + \"mnli_train.tsv\", sep='\\t')\n",
    "mnli_val = pd.read_csv(DATA_PATH + \"mnli_val.tsv\", sep='\\t')\n",
    "\n",
    "mnli_train_data = load_data.prepare_data(mnli_train)\n",
    "mnli_val_data = load_data.prepare_data(mnli_val)\n",
    "\n",
    "print (\"Train dataset size is {}\".format(len(mnli_train_data)))\n",
    "print (\"Val dataset size is {}\".format(len(mnli_val_data)))"
   ]
  },
  {
   "cell_type": "code",
   "execution_count": 5,
   "metadata": {},
   "outputs": [
    {
     "data": {
      "text/plain": [
       "['telephone', 'fiction', 'slate', 'government', 'travel']"
      ]
     },
     "execution_count": 5,
     "metadata": {},
     "output_type": "execute_result"
    }
   ],
   "source": [
    "all_genre = mnli_train_data.genre.unique().tolist()\n",
    "all_genre"
   ]
  },
  {
   "cell_type": "markdown",
   "metadata": {},
   "source": [
    "## Initialize and load our best model (both NN and LR)\n",
    "#### LR"
   ]
  },
  {
   "cell_type": "code",
   "execution_count": 6,
   "metadata": {},
   "outputs": [],
   "source": [
    "VOCAB_SIZE = 10000\n",
    "EMBEDDING_DIM = 50\n",
    "CAT_MODE = 'MUL'\n",
    "\n",
    "id2token_lr = pkl.load(open('pickle/'+str(VOCAB_SIZE)+'_id2token.pkl', 'rb'))\n",
    "token2id_lr = pkl.load(open('pickle/'+str(VOCAB_SIZE)+'_token2id.pkl', 'rb'))\n",
    "    \n",
    "BEST_LR_MODEL = 'models/snli/log-reg_best.pt'\n",
    "num_embed = len(id2token_lr)\n",
    "# embed_layer = nn.Embedding(num_embed, embed_dim)\n",
    "lr_best_model = LRModel(VOCAB_SIZE, EMBEDDING_DIM, len(id2token_lr), NUM_CLASS, CAT_MODE)\n",
    "lr_best_model.load_state_dict(torch.load(BEST_LR_MODEL, map_location=torch.device('cpu')))\n",
    "\n",
    "criterion = nn.NLLLoss()\n",
    "optimizer_lr = optim.Adam(lr_best_model.parameters(), lr = LEARNING_RATE)"
   ]
  },
  {
   "cell_type": "markdown",
   "metadata": {},
   "source": [
    "#### NN"
   ]
  },
  {
   "cell_type": "code",
   "execution_count": 7,
   "metadata": {},
   "outputs": [],
   "source": [
    "VOCAB_SIZE = 10000\n",
    "EMBEDDING_DIM = 500\n",
    "CAT_MODE = 'MUL'\n",
    "\n",
    "id2token_nn = pkl.load(open('pickle/'+str(VOCAB_SIZE)+'_id2token.pkl', 'rb'))\n",
    "token2id_nn = pkl.load(open('pickle/'+str(VOCAB_SIZE)+'_token2id.pkl', 'rb'))\n",
    "    \n",
    "BEST_NN_MODEL = 'models/snli/neural-net_best.pt'\n",
    "num_embed = len(id2token_nn)\n",
    "embed_dim = EMBEDDING_DIM\n",
    "embed_layer = nn.Embedding(num_embed, embed_dim)\n",
    "nn_best_model = NNModel(VOCAB_SIZE, EMBEDDING_DIM, len(id2token_nn) , HIDDEN_DIM, NUM_CLASS, CAT_MODE)\n",
    "nn_best_model.load_state_dict(torch.load(BEST_NN_MODEL, map_location=torch.device('cpu')))\n",
    "\n",
    "criterion = nn.NLLLoss()\n",
    "optimizer_nn = optim.Adam(nn_best_model.parameters(), lr = LEARNING_RATE)"
   ]
  },
  {
   "cell_type": "markdown",
   "metadata": {},
   "source": [
    "# 3.2 Evaluating on MultiNLI"
   ]
  },
  {
   "cell_type": "code",
   "execution_count": 8,
   "metadata": {},
   "outputs": [],
   "source": [
    "def get_data_loaders(genre, token2id):\n",
    "    mnli_train_tel = mnli_train_data[mnli_train_data['genre'] == genre]\n",
    "    mnli_val_tel = mnli_val_data[mnli_val_data['genre'] == genre]\n",
    "    indiced_train_data, train_target = load_data.token2index_dataset(mnli_train_tel, token2id)\n",
    "    indiced_val_data, val_target = load_data.token2index_dataset(mnli_val_tel, token2id)\n",
    "\n",
    "    train_dataset = load_data.SNLIDataset(indiced_train_data, train_target)\n",
    "    train_loader = torch.utils.data.DataLoader(dataset=train_dataset, \n",
    "                                               batch_size=BATCH_SIZE,\n",
    "                                               collate_fn=load_data.SNLI_collate_func,\n",
    "                                               shuffle=True)\n",
    "\n",
    "    val_dataset = load_data.SNLIDataset(indiced_val_data, val_target)\n",
    "    val_loader = torch.utils.data.DataLoader(dataset=val_dataset, \n",
    "                                               batch_size=BATCH_SIZE,\n",
    "                                               collate_fn=load_data.SNLI_collate_func,\n",
    "                                               shuffle=True)\n",
    "\n",
    "    return train_loader, val_loader"
   ]
  },
  {
   "cell_type": "code",
   "execution_count": 9,
   "metadata": {},
   "outputs": [
    {
     "name": "stderr",
     "output_type": "stream",
     "text": [
      "/anaconda3/lib/python3.6/site-packages/ipykernel_launcher.py:44: UserWarning: Implicit dimension choice for log_softmax has been deprecated. Change the call to include dim=X as an argument.\n"
     ]
    }
   ],
   "source": [
    "model_type = {'lr': (lr_best_model, token2id_lr), 'nn': (nn_best_model, token2id_nn)}\n",
    "df_eval = pd.DataFrame(index=model_type.keys(), columns=all_genre)\n",
    "for name, (model, token2id) in model_type.items():\n",
    "    for genre in all_genre:\n",
    "        _, val_loader = get_data_loaders(genre, token2id)\n",
    "        val_acc = acc(val_loader, model)\n",
    "        df_eval[genre][name] = val_acc"
   ]
  },
  {
   "cell_type": "code",
   "execution_count": 10,
   "metadata": {},
   "outputs": [
    {
     "data": {
      "image/png": "[encoded data removed]",
      "text/plain": [
       "<Figure size 576x288 with 1 Axes>"
      ]
     },
     "metadata": {},
     "output_type": "display_data"
    }
   ],
   "source": [
    "ax = df_eval.T.plot(kind='bar', title='Model Accuracy Evaluated on the MNLI Dataset\\n(without pre-trained embeddings)', \n",
    "               figsize=(8, 4), width=0.8, ylim=(30,55), rot=0)\n",
    "ax.legend(loc='lower right')\n",
    "for p in ax.patches:\n",
    "    ax.annotate(str(p.get_height())[:4], xy=(p.get_x()+0.05, p.get_height()+1))\n",
    "plt.savefig('evalMNLI.png')"
   ]
  },
  {
   "cell_type": "code",
   "execution_count": 11,
   "metadata": {},
   "outputs": [
    {
     "data": {
      "text/html": [
       "<div>\n",
       "<style scoped>\n",
       "    .dataframe tbody tr th:only-of-type {\n",
       "        vertical-align: middle;\n",
       "    }\n",
       "\n",
       "    .dataframe tbody tr th {\n",
       "        vertical-align: top;\n",
       "    }\n",
       "\n",
       "    .dataframe thead th {\n",
       "        text-align: right;\n",
       "    }\n",
       "</style>\n",
       "<table border=\"1\" class=\"dataframe\">\n",
       "  <thead>\n",
       "    <tr style=\"text-align: right;\">\n",
       "      <th></th>\n",
       "      <th>telephone</th>\n",
       "      <th>fiction</th>\n",
       "      <th>slate</th>\n",
       "      <th>government</th>\n",
       "      <th>travel</th>\n",
       "    </tr>\n",
       "  </thead>\n",
       "  <tbody>\n",
       "    <tr>\n",
       "      <th>lr</th>\n",
       "      <td>38.5075</td>\n",
       "      <td>43.3166</td>\n",
       "      <td>39.7206</td>\n",
       "      <td>40.2559</td>\n",
       "      <td>40.1222</td>\n",
       "    </tr>\n",
       "    <tr>\n",
       "      <th>nn</th>\n",
       "      <td>39.7015</td>\n",
       "      <td>44.4221</td>\n",
       "      <td>37.525</td>\n",
       "      <td>39.4685</td>\n",
       "      <td>41.5479</td>\n",
       "    </tr>\n",
       "  </tbody>\n",
       "</table>\n",
       "</div>"
      ],
      "text/plain": [
       "   telephone  fiction    slate government   travel\n",
       "lr   38.5075  43.3166  39.7206    40.2559  40.1222\n",
       "nn   39.7015  44.4221   37.525    39.4685  41.5479"
      ]
     },
     "execution_count": 11,
     "metadata": {},
     "output_type": "execute_result"
    }
   ],
   "source": [
    "df_eval"
   ]
  },
  {
   "cell_type": "markdown",
   "metadata": {},
   "source": [
    "# 3.3 Fine-tuning on MultiNLI\n",
    "pick the best model over either NN or LR"
   ]
  },
  {
   "cell_type": "code",
   "execution_count": 12,
   "metadata": {},
   "outputs": [],
   "source": [
    "SAVE_FOLDER = os.path.join('models', 'mnli')\n",
    "if not os.path.exists(SAVE_FOLDER):\n",
    "    os.makedirs(SAVE_FOLDER)"
   ]
  },
  {
   "cell_type": "code",
   "execution_count": 13,
   "metadata": {},
   "outputs": [],
   "source": [
    "# for genre in all_genre:\n",
    "#     print('*'*30, genre, '*'*30)\n",
    "#     best_model = copy.deepcopy(nn_best_model)\n",
    "#     optimizer = optimizer_nn\n",
    "#     token2id = token2id_nn\n",
    "#     criterion = nn.NLLLoss()\n",
    "#     optimizer = optim.Adam(best_model.parameters(), lr = LEARNING_RATE)\n",
    "#     train_loader, val_loader = get_data_loaders(genre, token2id)\n",
    "#     train_model(best_model, train_loader, val_loader, \n",
    "#                      optimizer, criterion, n_epochs=10, save_file=SAVE_FOLDER+'/'+genre+'_model.pt')"
   ]
  },
  {
   "cell_type": "code",
   "execution_count": 14,
   "metadata": {},
   "outputs": [],
   "source": [
    "telephone_model = NNModel(VOCAB_SIZE, EMBEDDING_DIM, len(id2token_nn) , HIDDEN_DIM, NUM_CLASS, CAT_MODE)\n",
    "telephone_model.load_state_dict(torch.load(SAVE_FOLDER+'/telephone_model.pt'))\n",
    "\n",
    "fiction_model = NNModel(VOCAB_SIZE, EMBEDDING_DIM, len(id2token_nn) , HIDDEN_DIM, NUM_CLASS, CAT_MODE)\n",
    "fiction_model.load_state_dict(torch.load(SAVE_FOLDER+'/fiction_model.pt'))\n",
    "\n",
    "slate_model = NNModel(VOCAB_SIZE, EMBEDDING_DIM, len(id2token_nn) , HIDDEN_DIM, NUM_CLASS, CAT_MODE)\n",
    "slate_model.load_state_dict(torch.load(SAVE_FOLDER+'/slate_model.pt'))\n",
    "\n",
    "government_model = NNModel(VOCAB_SIZE, EMBEDDING_DIM, len(id2token_nn) , HIDDEN_DIM, NUM_CLASS, CAT_MODE)\n",
    "government_model.load_state_dict(torch.load(SAVE_FOLDER+'/government_model.pt'))\n",
    "\n",
    "travel_model = NNModel(VOCAB_SIZE, EMBEDDING_DIM, len(id2token_nn) , HIDDEN_DIM, NUM_CLASS, CAT_MODE)\n",
    "travel_model.load_state_dict(torch.load(SAVE_FOLDER+'/travel_model.pt'))"
   ]
  },
  {
   "cell_type": "code",
   "execution_count": 15,
   "metadata": {},
   "outputs": [],
   "source": [
    "finetuned_models = {'telephone_model': telephone_model, \n",
    "                    'fiction_model': fiction_model, \n",
    "                    'slate_model': slate_model, \n",
    "                    'government_model': government_model, \n",
    "                    'travel_model': travel_model}"
   ]
  },
  {
   "cell_type": "code",
   "execution_count": 16,
   "metadata": {},
   "outputs": [
    {
     "name": "stderr",
     "output_type": "stream",
     "text": [
      "/anaconda3/lib/python3.6/site-packages/ipykernel_launcher.py:44: UserWarning: Implicit dimension choice for log_softmax has been deprecated. Change the call to include dim=X as an argument.\n"
     ]
    }
   ],
   "source": [
    "df = pd.DataFrame(index=finetuned_models, columns=all_genre)\n",
    "for model_type, model in finetuned_models.items():\n",
    "    for genre in all_genre:\n",
    "        _, val_loader = get_data_loaders(genre, token2id)\n",
    "        val_acc = acc(val_loader, model)\n",
    "        df[genre][model_type] = val_acc"
   ]
  },
  {
   "cell_type": "code",
   "execution_count": 17,
   "metadata": {},
   "outputs": [
    {
     "data": {
      "text/html": [
       "<div>\n",
       "<style scoped>\n",
       "    .dataframe tbody tr th:only-of-type {\n",
       "        vertical-align: middle;\n",
       "    }\n",
       "\n",
       "    .dataframe tbody tr th {\n",
       "        vertical-align: top;\n",
       "    }\n",
       "\n",
       "    .dataframe thead th {\n",
       "        text-align: right;\n",
       "    }\n",
       "</style>\n",
       "<table border=\"1\" class=\"dataframe\">\n",
       "  <thead>\n",
       "    <tr style=\"text-align: right;\">\n",
       "      <th></th>\n",
       "      <th>telephone</th>\n",
       "      <th>fiction</th>\n",
       "      <th>slate</th>\n",
       "      <th>government</th>\n",
       "      <th>travel</th>\n",
       "    </tr>\n",
       "  </thead>\n",
       "  <tbody>\n",
       "    <tr>\n",
       "      <th>telephone_model</th>\n",
       "      <td>48.5572</td>\n",
       "      <td>45.3266</td>\n",
       "      <td>41.7166</td>\n",
       "      <td>44.8819</td>\n",
       "      <td>44.8065</td>\n",
       "    </tr>\n",
       "    <tr>\n",
       "      <th>fiction_model</th>\n",
       "      <td>43.5821</td>\n",
       "      <td>45.6281</td>\n",
       "      <td>40.3194</td>\n",
       "      <td>42.0276</td>\n",
       "      <td>43.7882</td>\n",
       "    </tr>\n",
       "    <tr>\n",
       "      <th>slate_model</th>\n",
       "      <td>44.1791</td>\n",
       "      <td>43.1156</td>\n",
       "      <td>44.3114</td>\n",
       "      <td>44.685</td>\n",
       "      <td>47.1487</td>\n",
       "    </tr>\n",
       "    <tr>\n",
       "      <th>government_model</th>\n",
       "      <td>46.4677</td>\n",
       "      <td>46.3317</td>\n",
       "      <td>43.6128</td>\n",
       "      <td>50</td>\n",
       "      <td>49.1853</td>\n",
       "    </tr>\n",
       "    <tr>\n",
       "      <th>travel_model</th>\n",
       "      <td>46.8657</td>\n",
       "      <td>45.7286</td>\n",
       "      <td>43.513</td>\n",
       "      <td>49.9016</td>\n",
       "      <td>50.611</td>\n",
       "    </tr>\n",
       "  </tbody>\n",
       "</table>\n",
       "</div>"
      ],
      "text/plain": [
       "                 telephone  fiction    slate government   travel\n",
       "telephone_model    48.5572  45.3266  41.7166    44.8819  44.8065\n",
       "fiction_model      43.5821  45.6281  40.3194    42.0276  43.7882\n",
       "slate_model        44.1791  43.1156  44.3114     44.685  47.1487\n",
       "government_model   46.4677  46.3317  43.6128         50  49.1853\n",
       "travel_model       46.8657  45.7286   43.513    49.9016   50.611"
      ]
     },
     "execution_count": 17,
     "metadata": {},
     "output_type": "execute_result"
    }
   ],
   "source": [
    "df"
   ]
  },
  {
   "cell_type": "code",
   "execution_count": 18,
   "metadata": {},
   "outputs": [
    {
     "data": {
      "image/png": "[encoded data removed]",
      "text/plain": [
       "<Figure size 864x288 with 1 Axes>"
      ]
     },
     "metadata": {},
     "output_type": "display_data"
    }
   ],
   "source": [
    "ax = df.T.plot(kind='bar', title='Neural Net Accuracy (Finetuned using each genre from the MNLI dataset)', \n",
    "             figsize=(12, 4), width=0.9, ylim=(30,55), rot=0)\n",
    "ax.legend(loc='lower right')\n",
    "for p in ax.patches:\n",
    "    ax.annotate(str(p.get_height())[:4], xy=(p.get_x(), p.get_height()+1))\n",
    "plt.savefig('tunedMNLI_all.png')"
   ]
  },
  {
   "cell_type": "markdown",
   "metadata": {},
   "source": [
    "The finetuned models are uploaded to [this gdrive folder](https://drive.google.com/drive/folders/1TRwEd7O2ifC72eBJBJ1-zTBfG0nUC1tF?usp=sharing)."
   ]
  },
  {
   "cell_type": "code",
   "execution_count": 19,
   "metadata": {},
   "outputs": [],
   "source": [
    "df_individual = pd.DataFrame([df['telephone']['telephone_model'], \n",
    "                              df['fiction']['fiction_model'], \n",
    "                              df['slate']['slate_model'], \n",
    "                              df['government']['government_model'], \n",
    "                              df['travel']['travel_model']], index=all_genre, columns=['nn finetuned'])\n",
    "df_before_and_after = pd.concat([df_eval,df_individual.T])"
   ]
  },
  {
   "cell_type": "code",
   "execution_count": 20,
   "metadata": {},
   "outputs": [
    {
     "data": {
      "image/png": "[encoded data removed]",
      "text/plain": [
       "<Figure size 576x288 with 1 Axes>"
      ]
     },
     "metadata": {},
     "output_type": "display_data"
    }
   ],
   "source": [
    "ax = df_before_and_after.T.plot(kind='bar', title='Neural Net Accuracy Evaluated on the MNLI Dataset\\n(comparison before and after finetuning)', \n",
    "             figsize=(8, 4), width=0.8, ylim=(30,55), rot=0)\n",
    "ax.legend(loc='lower right')\n",
    "for p in ax.patches:\n",
    "    ax.annotate(str(p.get_height())[:4], xy=(p.get_x(), p.get_height()+1))\n",
    "plt.savefig('tunedMNLI.png')"
   ]
  },
  {
   "cell_type": "code",
   "execution_count": 21,
   "metadata": {},
   "outputs": [
    {
     "data": {
      "text/html": [
       "<div>\n",
       "<style scoped>\n",
       "    .dataframe tbody tr th:only-of-type {\n",
       "        vertical-align: middle;\n",
       "    }\n",
       "\n",
       "    .dataframe tbody tr th {\n",
       "        vertical-align: top;\n",
       "    }\n",
       "\n",
       "    .dataframe thead th {\n",
       "        text-align: right;\n",
       "    }\n",
       "</style>\n",
       "<table border=\"1\" class=\"dataframe\">\n",
       "  <thead>\n",
       "    <tr style=\"text-align: right;\">\n",
       "      <th></th>\n",
       "      <th>telephone</th>\n",
       "      <th>fiction</th>\n",
       "      <th>slate</th>\n",
       "      <th>government</th>\n",
       "      <th>travel</th>\n",
       "    </tr>\n",
       "  </thead>\n",
       "  <tbody>\n",
       "    <tr>\n",
       "      <th>lr</th>\n",
       "      <td>38.5075</td>\n",
       "      <td>43.3166</td>\n",
       "      <td>39.7206</td>\n",
       "      <td>40.2559</td>\n",
       "      <td>40.1222</td>\n",
       "    </tr>\n",
       "    <tr>\n",
       "      <th>nn</th>\n",
       "      <td>39.7015</td>\n",
       "      <td>44.4221</td>\n",
       "      <td>37.525</td>\n",
       "      <td>39.4685</td>\n",
       "      <td>41.5479</td>\n",
       "    </tr>\n",
       "    <tr>\n",
       "      <th>nn finetuned</th>\n",
       "      <td>48.5572</td>\n",
       "      <td>45.6281</td>\n",
       "      <td>44.3114</td>\n",
       "      <td>50</td>\n",
       "      <td>50.611</td>\n",
       "    </tr>\n",
       "  </tbody>\n",
       "</table>\n",
       "</div>"
      ],
      "text/plain": [
       "             telephone  fiction    slate government   travel\n",
       "lr             38.5075  43.3166  39.7206    40.2559  40.1222\n",
       "nn             39.7015  44.4221   37.525    39.4685  41.5479\n",
       "nn finetuned   48.5572  45.6281  44.3114         50   50.611"
      ]
     },
     "execution_count": 21,
     "metadata": {},
     "output_type": "execute_result"
    }
   ],
   "source": [
    "df_before_and_after"
   ]
  },
  {
   "cell_type": "markdown",
   "metadata": {},
   "source": [
    "# 3.4 Pre-trained Model Evaluating on MultiNLI"
   ]
  },
  {
   "cell_type": "code",
   "execution_count": 26,
   "metadata": {},
   "outputs": [],
   "source": [
    "class LRClassifier(nn.Module):\n",
    "    def __init__(self, n_in, n_out):\n",
    "        \"\"\"\n",
    "        n_in: Number of features\n",
    "        n_out: Number of output classes\n",
    "        \"\"\"\n",
    "        super().__init__()\n",
    "        # Set up out linear layer. This initializes the weights\n",
    "        self.linear = nn.Linear(n_in, n_out)\n",
    "        # Explicitly initialize the weights with the initialization\n",
    "        self.init_weights()\n",
    "    def forward(self, x):\n",
    "        \"\"\"\n",
    "        x: Input data [N, k]\n",
    "        ---\n",
    "        Returns: log probabilities of each class [N, c]\n",
    "        \"\"\"\n",
    "        # Apply the linear function to get our logit (real numbers)\n",
    "        logit = self.linear(x)\n",
    "        # Apply log_softmax to get logs of normalized probabilities\n",
    "        return F.log_softmax(logit, dim=1)\n",
    "    def init_weights(self):\n",
    "        # Use some specific initialization schemes\n",
    "        nn.init.xavier_normal_(self.linear.weight)\n",
    "        nn.init.uniform_(self.linear.bias)\n",
    "\n",
    "class NNClassifier(nn.Module):\n",
    "    def __init__(self, n_in, h_s, n_out):\n",
    "        super().__init__()\n",
    "        self.linear1 = nn.Linear(n_in,h_s)\n",
    "        self.linear2 = nn.Linear(h_s,h_s)\n",
    "        self.linear3 = nn.Linear(h_s,n_out)\n",
    "    def forward(self, x):\n",
    "        x = F.relu(self.linear1(x))\n",
    "        x = self.linear2(x)\n",
    "        x = F.relu(x)\n",
    "        x = self.linear3(x)\n",
    "        return F.log_softmax(x)\n",
    "\n",
    "class BOWEncoder(nn.Module):\n",
    "    def __init__(self, vocab_size, emb_dim, class_in, is_pretrained):\n",
    "        \"\"\"\n",
    "        @param vocab_size: size of the vocabulary. \n",
    "        @param emb_dim: size of the word embedding\n",
    "        \"\"\"\n",
    "        super(BOWEncoder, self).__init__()\n",
    "        if is_pretrained:\n",
    "            weights_matrix = self.create_weights(vectors, id2token)\n",
    "            self.embed  = self.create_emb_layer(weights_matrix, is_pretrained)\n",
    "        else:\n",
    "            self.embed = nn.Embedding(vocab_size, emb_dim, padding_idx=0)\n",
    "        self.linear = nn.Linear(emb_dim,class_in)\n",
    "    \n",
    "    def forward(self, data, length):\n",
    "        \"\"\"\n",
    "        \n",
    "        @param data: matrix of size (batch_size, max_sentence_length). Each row in data represents a \n",
    "            review that is represented using n-gram index. Note that they are padded to have same length.\n",
    "        @param length: an int tensor of size (batch_size), which represents the non-trivial (excludes padding)\n",
    "            length of each sentences in the data.\n",
    "        \"\"\"\n",
    "        out = self.embed(data)\n",
    "        out = torch.sum(out, dim=1)\n",
    "        out /= length.view(length.size()[0],1).expand_as(out).float()\n",
    "     \n",
    "        out = self.linear(out.float())\n",
    "        return out\n",
    "    \n",
    "    def create_weights(self, vectors, id2token):\n",
    "        '''Create weights metrics from vectors and id2token\n",
    "        Returns:\n",
    "        weights_matrix: torch.Tensor, dimension of (vocab size x embedding dim)\n",
    "        '''\n",
    "        weights_matrix = torch.from_numpy(np.array([vectors[id2token[i]] for i in range(2, len(id2token))]))\n",
    "        zero = torch.zeros(2, weights_matrix.size()[1], dtype=torch.float64)\n",
    "        weights_matrix = torch.cat([zero, weights_matrix])\n",
    "        return weights_matrix\n",
    "\n",
    "    \n",
    "    def create_emb_layer(self, weights_matrix, non_trainable=False):\n",
    "        '''Create embedding layer that's used in a PyTorch model\n",
    "        Returns:\n",
    "        emb_layer: nn.Embedding()\n",
    "        num_embeddings: int\n",
    "        embedding_dim: int\n",
    "        '''\n",
    "        num_embeddings, embedding_dim = weights_matrix.size()\n",
    "        emb_layer = nn.Embedding(num_embeddings, embedding_dim)\n",
    "        emb_layer.load_state_dict({'weight': weights_matrix})\n",
    "        if non_trainable:\n",
    "            emb_layer.weight.requires_grad = False\n",
    "        return emb_layer\n",
    "\n",
    "class NNModel(nn.Module):\n",
    "    def __init__(self, vocab_size, embed_dim, n_in, h_s, n_out, combine_mode, is_pretrained):\n",
    "        super().__init__()\n",
    "        self.encoder = BOWEncoder(vocab_size, embed_dim, n_in, is_pretrained)\n",
    "        self.combine_mode = combine_mode\n",
    "        if combine_mode == 'DIRECT':\n",
    "            n_in = n_in * 2;\n",
    "        self.classifier = NNClassifier(n_in,h_s, n_out)\n",
    "    \n",
    "    def forward(self, premise, len_premise, hypothesis, len_hypo):\n",
    "        premise = self.encoder(premise, len_premise)\n",
    "        hypothesis = self.encoder(hypothesis, len_hypo)\n",
    "        if self.combine_mode == 'DIRECT':\n",
    "            x = torch.cat((premise, hypothesis),1)\n",
    "        elif self.combine_mode == 'MUL':\n",
    "            x = torch.mul(premise, hypothesis)\n",
    "        elif self.combine_mode == 'SUB':\n",
    "            x = torch.sub(premise, hypothesis)\n",
    "        x = self.classifier(x)\n",
    "        return x\n",
    "    \n",
    "class LRModel(nn.Module):\n",
    "    def __init__(self, vocab_size, embed_dim, n_in, n_out, combine_mode, is_pretrained):\n",
    "        super().__init__()\n",
    "        self.encoder = BOWEncoder(vocab_size, embed_dim, n_in, is_pretrained)\n",
    "        self.combine_mode = combine_mode\n",
    "        if combine_mode == 'DIRECT':\n",
    "            n_in = n_in * 2;\n",
    "        self.classifier = LRClassifier(n_in, n_out)\n",
    "    \n",
    "    def forward(self, premise, len_premise, hypothesis, len_hypo):\n",
    "        premise = self.encoder(premise, len_premise)\n",
    "        hypothesis = self.encoder(hypothesis, len_hypo)\n",
    "        if self.combine_mode == 'DIRECT':\n",
    "            x = torch.cat((premise, hypothesis),1)\n",
    "        elif self.combine_mode == 'MUL':\n",
    "            x = torch.mul(premise, hypothesis)\n",
    "        elif cself.ombine_mode == 'SUB':\n",
    "            x = torch.sub(premise, hypothesis)\n",
    "        x = self.classifier(x)\n",
    "        return x"
   ]
  },
  {
   "cell_type": "markdown",
   "metadata": {},
   "source": [
    "#### LR"
   ]
  },
  {
   "cell_type": "code",
   "execution_count": 27,
   "metadata": {},
   "outputs": [],
   "source": [
    "VOCAB_SIZE = 100000\n",
    "CAT_MODE = 'DIRECT'\n",
    "\n",
    "vectors = pkl.load(open('pickle/'+str(VOCAB_SIZE)+'_vectors.pkl', 'rb'))\n",
    "id2token = pkl.load(open('pickle/'+str(VOCAB_SIZE)+'_id2token.pkl', 'rb'))\n",
    "token2id = pkl.load(open('pickle/'+str(VOCAB_SIZE)+'_token2id.pkl', 'rb'))\n",
    "    \n",
    "LR_PRETRAINED_MODEL = 'models/snli/pretrain_log-reg_best.pt'\n",
    "lr_pretrained_model = LRModel(VOCAB_SIZE, 300, len(id2token), 3, CAT_MODE, is_pretrained = True)\n",
    "lr_pretrained_model.load_state_dict(torch.load(LR_PRETRAINED_MODEL, map_location=torch.device('cpu')))"
   ]
  },
  {
   "cell_type": "markdown",
   "metadata": {},
   "source": [
    "#### NN"
   ]
  },
  {
   "cell_type": "code",
   "execution_count": 28,
   "metadata": {},
   "outputs": [],
   "source": [
    "VOCAB_SIZE = 100000\n",
    "CAT_MODE = 'DIRECT'\n",
    "\n",
    "vectors = pkl.load(open('pickle/'+str(VOCAB_SIZE)+'_vectors.pkl', 'rb'))\n",
    "id2token = pkl.load(open('pickle/'+str(VOCAB_SIZE)+'_id2token.pkl', 'rb'))\n",
    "token2id = pkl.load(open('pickle/'+str(VOCAB_SIZE)+'_token2id.pkl', 'rb'))\n",
    "    \n",
    "NN_PRETRAINED_MODEL = 'models/snli/pretrain_neural-net_best.pt'\n",
    "num_embed = len(id2token)\n",
    "nn_pretrained_model = NNModel(VOCAB_SIZE, 300, num_embed, HIDDEN_DIM, 3, CAT_MODE, is_pretrained = True)\n",
    "nn_pretrained_model.load_state_dict(torch.load(NN_PRETRAINED_MODEL, map_location=torch.device('cpu')))"
   ]
  },
  {
   "cell_type": "code",
   "execution_count": 29,
   "metadata": {},
   "outputs": [
    {
     "name": "stderr",
     "output_type": "stream",
     "text": [
      "/anaconda3/lib/python3.6/site-packages/ipykernel_launcher.py:38: UserWarning: Implicit dimension choice for log_softmax has been deprecated. Change the call to include dim=X as an argument.\n"
     ]
    }
   ],
   "source": [
    "model_type = {'lr_pretrained': (lr_pretrained_model, token2id), 'nn_pretrained': (nn_pretrained_model, token2id)}\n",
    "df_eval_pretrained = pd.DataFrame(index=model_type.keys(), columns=all_genre)\n",
    "for name, (model, token2id) in model_type.items():\n",
    "    for genre in all_genre:\n",
    "        _, val_loader = get_data_loaders(genre, token2id)\n",
    "        val_acc = acc(val_loader, model)\n",
    "        df_eval_pretrained[genre][name] = val_acc"
   ]
  },
  {
   "cell_type": "code",
   "execution_count": 30,
   "metadata": {},
   "outputs": [
    {
     "data": {
      "image/png": "[encoded data removed]",
      "text/plain": [
       "<Figure size 576x144 with 1 Axes>"
      ]
     },
     "metadata": {},
     "output_type": "display_data"
    }
   ],
   "source": [
    "ax = df_eval_pretrained.T.plot(kind='bar', title='Model Accuracy Evaluated on the MNLI Dataset\\n(with pre-trained embeddings)', \n",
    "               figsize=(8, 2), width=0.8, ylim=(30,50), rot=0)\n",
    "ax.legend(loc='lower right')\n",
    "for p in ax.patches:\n",
    "    ax.annotate(str(p.get_height())[:4], xy=(p.get_x()+0.05, p.get_height()+1))\n",
    "plt.savefig('evalMNLI_pretrained.png')"
   ]
  },
  {
   "cell_type": "code",
   "execution_count": 31,
   "metadata": {},
   "outputs": [
    {
     "data": {
      "text/html": [
       "<div>\n",
       "<style scoped>\n",
       "    .dataframe tbody tr th:only-of-type {\n",
       "        vertical-align: middle;\n",
       "    }\n",
       "\n",
       "    .dataframe tbody tr th {\n",
       "        vertical-align: top;\n",
       "    }\n",
       "\n",
       "    .dataframe thead th {\n",
       "        text-align: right;\n",
       "    }\n",
       "</style>\n",
       "<table border=\"1\" class=\"dataframe\">\n",
       "  <thead>\n",
       "    <tr style=\"text-align: right;\">\n",
       "      <th></th>\n",
       "      <th>telephone</th>\n",
       "      <th>fiction</th>\n",
       "      <th>slate</th>\n",
       "      <th>government</th>\n",
       "      <th>travel</th>\n",
       "    </tr>\n",
       "  </thead>\n",
       "  <tbody>\n",
       "    <tr>\n",
       "      <th>lr_pretrained</th>\n",
       "      <td>42.5871</td>\n",
       "      <td>39.2965</td>\n",
       "      <td>37.8244</td>\n",
       "      <td>38.878</td>\n",
       "      <td>38.391</td>\n",
       "    </tr>\n",
       "    <tr>\n",
       "      <th>nn_pretrained</th>\n",
       "      <td>42.3881</td>\n",
       "      <td>43.8191</td>\n",
       "      <td>41.4172</td>\n",
       "      <td>41.0433</td>\n",
       "      <td>40.0204</td>\n",
       "    </tr>\n",
       "  </tbody>\n",
       "</table>\n",
       "</div>"
      ],
      "text/plain": [
       "              telephone  fiction    slate government   travel\n",
       "lr_pretrained   42.5871  39.2965  37.8244     38.878   38.391\n",
       "nn_pretrained   42.3881  43.8191  41.4172    41.0433  40.0204"
      ]
     },
     "execution_count": 31,
     "metadata": {},
     "output_type": "execute_result"
    }
   ],
   "source": [
    "df_eval_pretrained"
   ]
  },
  {
   "cell_type": "code",
   "execution_count": null,
   "metadata": {},
   "outputs": [],
   "source": []
  }
 ],
 "metadata": {
  "kernelspec": {
   "display_name": "Python 3",
   "language": "python",
   "name": "python3"
  },
  "language_info": {
   "codemirror_mode": {
    "name": "ipython",
    "version": 3
   },
   "file_extension": ".py",
   "mimetype": "text/x-python",
   "name": "python",
   "nbconvert_exporter": "python",
   "pygments_lexer": "ipython3",
   "version": "3.6.8"
  }
 },
 "nbformat": 4,
 "nbformat_minor": 4
}
