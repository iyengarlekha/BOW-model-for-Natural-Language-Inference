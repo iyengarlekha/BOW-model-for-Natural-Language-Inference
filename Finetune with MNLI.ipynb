{
 "cells": [
  {
   "cell_type": "markdown",
   "metadata": {},
   "source": [
    "# Finetuning with MNLI\n",
    "\n",
    "After finding our best model, follow this notebook to finetune the model with MNLI dataset"
   ]
  },
  {
   "cell_type": "code",
   "execution_count": 1,
   "metadata": {},
   "outputs": [],
   "source": [
    "%load_ext autoreload\n",
    "%autoreload 2\n",
    "\n",
    "import pandas as pd\n",
    "import pickle as pkl\n",
    "import datetime\n",
    "import random\n",
    "import numpy as np\n",
    "import torch\n",
    "import os\n",
    "from torch.utils.data import Dataset\n",
    "\n",
    "import torch\n",
    "import torch.nn as nn\n",
    "import torch.nn.functional as F\n",
    "import torch.optim as optim\n",
    "from torch.utils.data import Dataset\n",
    "\n",
    "import load_data\n",
    "from models import *\n",
    "from training import *"
   ]
  },
  {
   "cell_type": "code",
   "execution_count": 2,
   "metadata": {},
   "outputs": [],
   "source": [
    "HIDDEN_DIM = 100\n",
    "MAX_SENTENCE_LENGTH = 30\n",
    "BATCH_SIZE = 32\n",
    "NUM_CLASS = 20\n",
    "LEARNING_RATE = 0.005\n",
    "NUM_EPOCHES = 10\n",
    "\n",
    "DATA_PATH = 'data/'"
   ]
  },
  {
   "cell_type": "markdown",
   "metadata": {},
   "source": [
    "### Initialize MNLI data"
   ]
  },
  {
   "cell_type": "code",
   "execution_count": 3,
   "metadata": {},
   "outputs": [
    {
     "name": "stdout",
     "output_type": "stream",
     "text": [
      "Train dataset size is 20000\n",
      "Val dataset size is 5000\n"
     ]
    }
   ],
   "source": [
    "mnli_train = pd.read_csv(DATA_PATH + \"mnli_train.tsv\", sep='\\t')\n",
    "mnli_val = pd.read_csv(DATA_PATH + \"mnli_val.tsv\", sep='\\t')\n",
    "\n",
    "mnli_train_data = load_data.prepare_data(mnli_train)\n",
    "mnli_val_data = load_data.prepare_data(mnli_val)\n",
    "\n",
    "print (\"Train dataset size is {}\".format(len(mnli_train_data)))\n",
    "print (\"Val dataset size is {}\".format(len(mnli_val_data)))"
   ]
  },
  {
   "cell_type": "code",
   "execution_count": 4,
   "metadata": {},
   "outputs": [
    {
     "data": {
      "text/plain": [
       "['telephone', 'fiction', 'slate', 'government', 'travel']"
      ]
     },
     "execution_count": 4,
     "metadata": {},
     "output_type": "execute_result"
    }
   ],
   "source": [
    "all_genre = mnli_train_data.genre.unique().tolist()\n",
    "all_genre"
   ]
  },
  {
   "cell_type": "markdown",
   "metadata": {},
   "source": [
    "## Initialize and load our best model (both NN and LR)\n",
    "#### LR"
   ]
  },
  {
   "cell_type": "code",
   "execution_count": 78,
   "metadata": {},
   "outputs": [],
   "source": [
    "VOCAB_SIZE = 20000\n",
    "EMBEDDING_DIM = 200\n",
    "\n",
    "id2token_lr = pkl.load(open('pickle/'+str(VOCAB_SIZE)+'_id2token.pkl', 'rb'))\n",
    "token2id_lr = pkl.load(open('pickle/'+str(VOCAB_SIZE)+'_token2id.pkl', 'rb'))\n",
    "    \n",
    "BEST_LR_MODEL = 'models/snli/20000_200_MUL_log-reg.pt'\n",
    "num_embed = len(id2token_lr)\n",
    "embed_dim = EMBEDDING_DIM\n",
    "embed_layer = nn.Embedding(num_embed, embed_dim)\n",
    "lr_best_model = LogisticRegression(embed_layer, embed_dim, NUM_CLASS, 'MUL')\n",
    "lr_best_model.load_state_dict(torch.load(BEST_LR_MODEL, map_location=torch.device('cpu')))\n",
    "\n",
    "criterion = nn.NLLLoss()\n",
    "optimizer_lr = optim.Adam(lr_best_model.parameters(), lr = LEARNING_RATE)"
   ]
  },
  {
   "cell_type": "markdown",
   "metadata": {},
   "source": [
    "#### NN"
   ]
  },
  {
   "cell_type": "code",
   "execution_count": 32,
   "metadata": {},
   "outputs": [],
   "source": [
    "# if PRE_TRAINED:\n",
    "#     embed_layer, num_embed, embed_dim = load_data.create_emb_layer(load_data.create_weights(vectors, id2token), \n",
    "#                                                                non_trainable = True)"
   ]
  },
  {
   "cell_type": "code",
   "execution_count": 79,
   "metadata": {},
   "outputs": [],
   "source": [
    "VOCAB_SIZE = 20000\n",
    "EMBEDDING_DIM = 50\n",
    "\n",
    "id2token_nn = pkl.load(open('pickle/'+str(VOCAB_SIZE)+'_id2token.pkl', 'rb'))\n",
    "token2id_nn = pkl.load(open('pickle/'+str(VOCAB_SIZE)+'_token2id.pkl', 'rb'))\n",
    "    \n",
    "BEST_NN_MODEL = 'models/snli/20000_50_SUB_neural-net.pt'\n",
    "num_embed = len(id2token_nn)\n",
    "embed_dim = EMBEDDING_DIM\n",
    "embed_layer = nn.Embedding(num_embed, embed_dim)\n",
    "nn_best_model = NeuralNetwork(embed_layer, embed_dim, NUM_CLASS, HIDDEN_DIM, 'SUB')\n",
    "nn_best_model.load_state_dict(torch.load(BEST_NN_MODEL, map_location=torch.device('cpu')))\n",
    "\n",
    "criterion = nn.NLLLoss()\n",
    "optimizer_nn = optim.Adam(nn_best_model.parameters(), lr = LEARNING_RATE)"
   ]
  },
  {
   "cell_type": "markdown",
   "metadata": {},
   "source": [
    "# 3.2 Evaluating on MultiNLI"
   ]
  },
  {
   "cell_type": "code",
   "execution_count": 80,
   "metadata": {},
   "outputs": [],
   "source": [
    "def get_data_loaders(genre, token2id):\n",
    "    mnli_train_tel = mnli_train_data[mnli_train_data['genre'] == genre]\n",
    "    mnli_val_tel = mnli_val_data[mnli_val_data['genre'] == genre]\n",
    "    indiced_train_data, train_target = load_data.token2index_dataset(mnli_train_tel, token2id)\n",
    "    indiced_val_data, val_target = load_data.token2index_dataset(mnli_val_tel, token2id)\n",
    "\n",
    "    train_dataset = load_data.SNLIDataset(indiced_train_data, train_target)\n",
    "    train_loader = torch.utils.data.DataLoader(dataset=train_dataset, \n",
    "                                               batch_size=BATCH_SIZE,\n",
    "                                               collate_fn=load_data.SNLI_collate_func,\n",
    "                                               shuffle=True)\n",
    "\n",
    "    val_dataset = load_data.SNLIDataset(indiced_val_data, val_target)\n",
    "    val_loader = torch.utils.data.DataLoader(dataset=val_dataset, \n",
    "                                               batch_size=BATCH_SIZE,\n",
    "                                               collate_fn=load_data.SNLI_collate_func,\n",
    "                                               shuffle=True)\n",
    "\n",
    "    return train_loader, val_loader"
   ]
  },
  {
   "cell_type": "code",
   "execution_count": 81,
   "metadata": {},
   "outputs": [],
   "source": [
    "model_type = {'lr': (lr_best_model, token2id_lr), 'nn': (nn_best_model, token2id_nn)}\n",
    "df = pd.DataFrame(index=model_type.keys(), columns=all_genre)\n",
    "for name, (model, token2id) in model_type.items():\n",
    "    for genre in all_genre:\n",
    "        _, val_loader = get_data_loaders(genre, token2id)\n",
    "        val_acc = acc(val_loader, model)\n",
    "        df[genre][name] = val_acc"
   ]
  },
  {
   "cell_type": "code",
   "execution_count": 82,
   "metadata": {},
   "outputs": [
    {
     "data": {
      "image/png": "[encoded data removed]",
      "text/plain": [
       "<Figure size 576x288 with 1 Axes>"
      ]
     },
     "metadata": {
      "needs_background": "light"
     },
     "output_type": "display_data"
    }
   ],
   "source": [
    "ax = df.T.plot(kind='bar', title='Model Accuracy Evaluated on the MNLI Dataset\\n(without pre-trained embeddings)', \n",
    "               figsize=(8, 4), width=0.8, ylim=(30,55), rot=0)\n",
    "ax.legend(loc='lower right')\n",
    "for p in ax.patches:\n",
    "    ax.annotate(str(p.get_height())[:4], xy=(p.get_x()+0.05, p.get_height()+1))"
   ]
  },
  {
   "cell_type": "code",
   "execution_count": 83,
   "metadata": {},
   "outputs": [
    {
     "data": {
      "text/html": [
       "<div>\n",
       "<style scoped>\n",
       "    .dataframe tbody tr th:only-of-type {\n",
       "        vertical-align: middle;\n",
       "    }\n",
       "\n",
       "    .dataframe tbody tr th {\n",
       "        vertical-align: top;\n",
       "    }\n",
       "\n",
       "    .dataframe thead th {\n",
       "        text-align: right;\n",
       "    }\n",
       "</style>\n",
       "<table border=\"1\" class=\"dataframe\">\n",
       "  <thead>\n",
       "    <tr style=\"text-align: right;\">\n",
       "      <th></th>\n",
       "      <th>telephone</th>\n",
       "      <th>fiction</th>\n",
       "      <th>slate</th>\n",
       "      <th>government</th>\n",
       "      <th>travel</th>\n",
       "    </tr>\n",
       "  </thead>\n",
       "  <tbody>\n",
       "    <tr>\n",
       "      <td>lr</td>\n",
       "      <td>38.806</td>\n",
       "      <td>41.3065</td>\n",
       "      <td>40.8184</td>\n",
       "      <td>34.9409</td>\n",
       "      <td>37.3727</td>\n",
       "    </tr>\n",
       "    <tr>\n",
       "      <td>nn</td>\n",
       "      <td>40.796</td>\n",
       "      <td>40.201</td>\n",
       "      <td>42.515</td>\n",
       "      <td>43.2087</td>\n",
       "      <td>42.668</td>\n",
       "    </tr>\n",
       "  </tbody>\n",
       "</table>\n",
       "</div>"
      ],
      "text/plain": [
       "   telephone  fiction    slate government   travel\n",
       "lr    38.806  41.3065  40.8184    34.9409  37.3727\n",
       "nn    40.796   40.201   42.515    43.2087   42.668"
      ]
     },
     "execution_count": 83,
     "metadata": {},
     "output_type": "execute_result"
    }
   ],
   "source": [
    "df"
   ]
  },
  {
   "cell_type": "markdown",
   "metadata": {},
   "source": [
    "# 3.3 Fine-tuning on MultiNLI\n",
    "pick the best model over either NN or LR"
   ]
  },
  {
   "cell_type": "code",
   "execution_count": 6,
   "metadata": {},
   "outputs": [],
   "source": [
    "SAVE_FOLDER = os.path.join('models', 'mnli')\n",
    "if not os.path.exists(SAVE_FOLDER):\n",
    "    os.makedirs(SAVE_FOLDER)"
   ]
  },
  {
   "cell_type": "code",
   "execution_count": 9,
   "metadata": {},
   "outputs": [
    {
     "name": "stdout",
     "output_type": "stream",
     "text": [
      "****************************** telephone ******************************\n",
      "Starting epoch 0\n",
      "End of epoch 1, Training Acc: 48.78220140515222,Validation Acc: 41.492537313432834, Time: 3.4691269397735596 sec\n",
      "New best model found, saving at models/mnli/telephone_model.pt\n",
      "\n",
      "Starting epoch 1\n",
      "End of epoch 2, Training Acc: 57.49414519906323,Validation Acc: 43.38308457711443, Time: 6.784811019897461 sec\n",
      "New best model found, saving at models/mnli/telephone_model.pt\n",
      "\n",
      "Starting epoch 2\n",
      "End of epoch 3, Training Acc: 64.77751756440281,Validation Acc: 43.98009950248756, Time: 10.35728406906128 sec\n",
      "New best model found, saving at models/mnli/telephone_model.pt\n",
      "\n",
      "Starting epoch 3\n",
      "End of epoch 4, Training Acc: 71.21779859484778,Validation Acc: 43.78109452736319, Time: 14.20176887512207 sec\n",
      "\n",
      "Starting epoch 4\n",
      "End of epoch 5, Training Acc: 76.7447306791569,Validation Acc: 42.885572139303484, Time: 18.123410940170288 sec\n",
      "\n",
      "Starting epoch 5\n",
      "End of epoch 6, Training Acc: 81.1943793911007,Validation Acc: 44.27860696517413, Time: 21.86258888244629 sec\n",
      "New best model found, saving at models/mnli/telephone_model.pt\n",
      "\n",
      "Starting epoch 6\n",
      "End of epoch 7, Training Acc: 84.28571428571429,Validation Acc: 43.28358208955224, Time: 25.397809743881226 sec\n",
      "\n",
      "Starting epoch 7\n",
      "End of epoch 8, Training Acc: 85.90163934426229,Validation Acc: 44.17910447761194, Time: 29.14429473876953 sec\n",
      "\n",
      "Starting epoch 8\n",
      "End of epoch 9, Training Acc: 89.7423887587822,Validation Acc: 41.89054726368159, Time: 32.77633786201477 sec\n",
      "\n",
      "Starting epoch 9\n",
      "End of epoch 10, Training Acc: 91.288056206089,Validation Acc: 42.38805970149254, Time: 36.630321741104126 sec\n",
      "\n",
      "****************************** fiction ******************************\n",
      "Starting epoch 0\n",
      "End of epoch 1, Training Acc: 53.67570385818561,Validation Acc: 41.005025125628144, Time: 3.2381350994110107 sec\n",
      "New best model found, saving at models/mnli/fiction_model.pt\n",
      "\n",
      "Starting epoch 1\n",
      "End of epoch 2, Training Acc: 63.26903023983316,Validation Acc: 41.50753768844221, Time: 6.262833118438721 sec\n",
      "New best model found, saving at models/mnli/fiction_model.pt\n",
      "\n",
      "Starting epoch 2\n",
      "End of epoch 3, Training Acc: 72.81021897810218,Validation Acc: 41.4070351758794, Time: 9.502906084060669 sec\n",
      "\n",
      "Starting epoch 3\n",
      "End of epoch 4, Training Acc: 79.82273201251303,Validation Acc: 41.80904522613066, Time: 12.76257610321045 sec\n",
      "New best model found, saving at models/mnli/fiction_model.pt\n",
      "\n",
      "Starting epoch 4\n",
      "End of epoch 5, Training Acc: 83.15954118873827,Validation Acc: 42.51256281407035, Time: 16.00557518005371 sec\n",
      "New best model found, saving at models/mnli/fiction_model.pt\n",
      "\n",
      "Starting epoch 5\n",
      "End of epoch 6, Training Acc: 88.73826903023983,Validation Acc: 42.311557788944725, Time: 19.484766006469727 sec\n",
      "\n",
      "Starting epoch 6\n",
      "End of epoch 7, Training Acc: 91.71011470281543,Validation Acc: 42.01005025125628, Time: 23.012435913085938 sec\n",
      "\n",
      "Starting epoch 7\n",
      "End of epoch 8, Training Acc: 93.53493222106361,Validation Acc: 41.30653266331658, Time: 26.22277808189392 sec\n",
      "\n",
      "Starting epoch 8\n",
      "End of epoch 9, Training Acc: 93.87382690302398,Validation Acc: 42.61306532663317, Time: 29.83838701248169 sec\n",
      "New best model found, saving at models/mnli/fiction_model.pt\n",
      "\n",
      "Starting epoch 9\n",
      "End of epoch 10, Training Acc: 95.25547445255475,Validation Acc: 43.31658291457286, Time: 32.701576232910156 sec\n",
      "New best model found, saving at models/mnli/fiction_model.pt\n",
      "\n",
      "****************************** slate ******************************\n",
      "Starting epoch 0\n",
      "End of epoch 1, Training Acc: 54.669647292598114,Validation Acc: 44.510978043912175, Time: 2.719757080078125 sec\n",
      "New best model found, saving at models/mnli/slate_model.pt\n",
      "\n",
      "Starting epoch 1\n",
      "End of epoch 2, Training Acc: 64.55538996522603,Validation Acc: 43.51297405189621, Time: 5.461756229400635 sec\n",
      "\n",
      "Starting epoch 2\n",
      "End of epoch 3, Training Acc: 71.33631395926479,Validation Acc: 43.51297405189621, Time: 8.13513708114624 sec\n",
      "\n",
      "Starting epoch 3\n",
      "End of epoch 4, Training Acc: 80.77496274217586,Validation Acc: 46.10778443113772, Time: 10.82404088973999 sec\n",
      "New best model found, saving at models/mnli/slate_model.pt\n",
      "\n",
      "Starting epoch 4\n",
      "End of epoch 5, Training Acc: 86.04073522106309,Validation Acc: 44.91017964071856, Time: 13.491674184799194 sec\n",
      "\n",
      "Starting epoch 5\n",
      "End of epoch 6, Training Acc: 88.97168405365127,Validation Acc: 45.10978043912176, Time: 16.581894159317017 sec\n",
      "\n",
      "Starting epoch 6\n",
      "End of epoch 7, Training Acc: 91.70392449080974,Validation Acc: 44.81037924151697, Time: 19.64734411239624 sec\n",
      "\n",
      "Starting epoch 7\n",
      "End of epoch 8, Training Acc: 94.0635866865375,Validation Acc: 45.30938123752495, Time: 22.92720675468445 sec\n",
      "\n",
      "Starting epoch 8\n",
      "End of epoch 9, Training Acc: 95.20615996025832,Validation Acc: 45.209580838323355, Time: 26.197039127349854 sec\n",
      "\n",
      "Starting epoch 9\n",
      "End of epoch 10, Training Acc: 96.62195727769499,Validation Acc: 46.007984031936125, Time: 31.021173000335693 sec\n",
      "\n",
      "****************************** government ******************************\n",
      "Starting epoch 0\n",
      "End of epoch 1, Training Acc: 56.528457378315736,Validation Acc: 46.161417322834644, Time: 2.7619757652282715 sec\n",
      "New best model found, saving at models/mnli/government_model.pt\n",
      "\n",
      "Starting epoch 1\n",
      "End of epoch 2, Training Acc: 65.13005408189544,Validation Acc: 47.44094488188976, Time: 6.803571939468384 sec\n",
      "New best model found, saving at models/mnli/government_model.pt\n",
      "\n",
      "Starting epoch 2\n",
      "End of epoch 3, Training Acc: 71.95467422096317,Validation Acc: 47.539370078740156, Time: 10.193017959594727 sec\n",
      "New best model found, saving at models/mnli/government_model.pt\n",
      "\n",
      "Starting epoch 3\n",
      "End of epoch 4, Training Acc: 78.57326809168168,Validation Acc: 48.62204724409449, Time: 13.288903951644897 sec\n",
      "New best model found, saving at models/mnli/government_model.pt\n",
      "\n",
      "Starting epoch 4\n",
      "End of epoch 5, Training Acc: 82.33324748905486,Validation Acc: 49.11417322834646, Time: 16.21429681777954 sec\n",
      "New best model found, saving at models/mnli/government_model.pt\n",
      "\n",
      "Starting epoch 5\n",
      "End of epoch 6, Training Acc: 86.42801957249549,Validation Acc: 49.90157480314961, Time: 19.511604070663452 sec\n",
      "New best model found, saving at models/mnli/government_model.pt\n",
      "\n",
      "Starting epoch 6\n",
      "End of epoch 7, Training Acc: 90.08498583569406,Validation Acc: 48.326771653543304, Time: 22.319782972335815 sec\n",
      "\n",
      "Starting epoch 7\n",
      "End of epoch 8, Training Acc: 92.50579448879732,Validation Acc: 49.40944881889764, Time: 25.51920795440674 sec\n",
      "\n",
      "Starting epoch 8\n",
      "End of epoch 9, Training Acc: 94.05099150141643,Validation Acc: 49.90157480314961, Time: 28.950811862945557 sec\n",
      "\n",
      "Starting epoch 9\n",
      "End of epoch 10, Training Acc: 95.39016224568633,Validation Acc: 49.311023622047244, Time: 32.0252149105072 sec\n",
      "\n",
      "****************************** travel ******************************\n",
      "Starting epoch 0\n",
      "End of epoch 1, Training Acc: 60.70263488080301,Validation Acc: 45.010183299389, Time: 3.4160871505737305 sec\n",
      "New best model found, saving at models/mnli/travel_model.pt\n",
      "\n",
      "Starting epoch 1\n",
      "End of epoch 2, Training Acc: 69.00878293601004,Validation Acc: 45.621181262729124, Time: 6.6109912395477295 sec\n",
      "New best model found, saving at models/mnli/travel_model.pt\n",
      "\n",
      "Starting epoch 2\n",
      "End of epoch 3, Training Acc: 77.13927227101631,Validation Acc: 45.11201629327902, Time: 10.07800817489624 sec\n",
      "\n",
      "Starting epoch 3\n",
      "End of epoch 4, Training Acc: 83.91468005018821,Validation Acc: 44.70468431771894, Time: 13.105437994003296 sec\n",
      "\n",
      "Starting epoch 4\n",
      "End of epoch 5, Training Acc: 87.37766624843162,Validation Acc: 44.39918533604888, Time: 16.28484797477722 sec\n",
      "\n",
      "Starting epoch 5\n",
      "End of epoch 6, Training Acc: 91.41781681304893,Validation Acc: 45.11201629327902, Time: 19.343844890594482 sec\n",
      "\n",
      "Starting epoch 6\n",
      "End of epoch 7, Training Acc: 92.24592220828106,Validation Acc: 44.19551934826884, Time: 22.379880905151367 sec\n",
      "\n",
      "Starting epoch 7\n",
      "End of epoch 8, Training Acc: 95.38268506900879,Validation Acc: 45.11201629327902, Time: 25.498191833496094 sec\n",
      "\n",
      "Starting epoch 8\n",
      "End of epoch 9, Training Acc: 96.93851944792974,Validation Acc: 43.4826883910387, Time: 28.683542013168335 sec\n",
      "\n",
      "Starting epoch 9\n",
      "End of epoch 10, Training Acc: 97.49058971141781,Validation Acc: 43.4826883910387, Time: 31.393660068511963 sec\n",
      "\n"
     ]
    }
   ],
   "source": [
    "for genre in all_genre:\n",
    "    print('*'*30, genre, '*'*30)\n",
    "    best_model = nn_best_model\n",
    "    optimizer = optimizer_nn\n",
    "    token2id = token2id_nn\n",
    "    criterion = nn.NLLLoss()\n",
    "    optimizer = optim.Adam(best_model.parameters(), lr = LEARNING_RATE)\n",
    "    train_loader, val_loader = get_data_loaders(genre, token2id)\n",
    "    train_model(best_model, train_loader, val_loader, \n",
    "                     optimizer, criterion, n_epochs=10, save_file=SAVE_FOLDER+'/'+genre+'_model.pt')"
   ]
  },
  {
   "cell_type": "code",
   "execution_count": 40,
   "metadata": {},
   "outputs": [
    {
     "data": {
      "text/plain": [
       "<All keys matched successfully>"
      ]
     },
     "execution_count": 40,
     "metadata": {},
     "output_type": "execute_result"
    }
   ],
   "source": [
    "telephone_model = NeuralNetwork(embed_layer, embed_dim, NUM_CLASS, HIDDEN_DIM, 'SUB')\n",
    "telephone_model.load_state_dict(torch.load(SAVE_FOLDER+'/telephone_model.pt'))\n",
    "\n",
    "fiction_model = NeuralNetwork(embed_layer, embed_dim, NUM_CLASS, HIDDEN_DIM, 'SUB')\n",
    "fiction_model.load_state_dict(torch.load(SAVE_FOLDER+'/fiction_model.pt'))\n",
    "\n",
    "slate_model = NeuralNetwork(embed_layer, embed_dim, NUM_CLASS, HIDDEN_DIM, 'SUB')\n",
    "slate_model.load_state_dict(torch.load(SAVE_FOLDER+'/slate_model.pt'))\n",
    "\n",
    "government_model = NeuralNetwork(embed_layer, embed_dim, NUM_CLASS, HIDDEN_DIM, 'SUB')\n",
    "government_model.load_state_dict(torch.load(SAVE_FOLDER+'/government_model.pt'))\n",
    "\n",
    "travel_model = NeuralNetwork(embed_layer, embed_dim, NUM_CLASS, HIDDEN_DIM, 'SUB')\n",
    "travel_model.load_state_dict(torch.load(SAVE_FOLDER+'/travel_model.pt'))"
   ]
  },
  {
   "cell_type": "code",
   "execution_count": 41,
   "metadata": {},
   "outputs": [],
   "source": [
    "finetuned_models = {'telephone_model': telephone_model, \n",
    "                    'fiction_model': fiction_model, \n",
    "                    'slate_model': slate_model, \n",
    "                    'government_model': government_model, \n",
    "                    'travel_model': travel_model}"
   ]
  },
  {
   "cell_type": "code",
   "execution_count": 42,
   "metadata": {},
   "outputs": [],
   "source": [
    "df = pd.DataFrame(index=finetuned_models, columns=all_genre)\n",
    "for model_type, model in finetuned_models.items():\n",
    "    for genre in all_genre:\n",
    "        _, val_loader = get_data_loaders(genre, token2id)\n",
    "        val_acc = acc(val_loader, model)\n",
    "        df[genre][model_type] = val_acc"
   ]
  },
  {
   "cell_type": "code",
   "execution_count": 43,
   "metadata": {},
   "outputs": [
    {
     "data": {
      "text/html": [
       "<div>\n",
       "<style scoped>\n",
       "    .dataframe tbody tr th:only-of-type {\n",
       "        vertical-align: middle;\n",
       "    }\n",
       "\n",
       "    .dataframe tbody tr th {\n",
       "        vertical-align: top;\n",
       "    }\n",
       "\n",
       "    .dataframe thead th {\n",
       "        text-align: right;\n",
       "    }\n",
       "</style>\n",
       "<table border=\"1\" class=\"dataframe\">\n",
       "  <thead>\n",
       "    <tr style=\"text-align: right;\">\n",
       "      <th></th>\n",
       "      <th>telephone</th>\n",
       "      <th>fiction</th>\n",
       "      <th>slate</th>\n",
       "      <th>government</th>\n",
       "      <th>travel</th>\n",
       "    </tr>\n",
       "  </thead>\n",
       "  <tbody>\n",
       "    <tr>\n",
       "      <td>telephone_model</td>\n",
       "      <td>45.6716</td>\n",
       "      <td>43.5176</td>\n",
       "      <td>43.3134</td>\n",
       "      <td>45.5709</td>\n",
       "      <td>43.5845</td>\n",
       "    </tr>\n",
       "    <tr>\n",
       "      <td>fiction_model</td>\n",
       "      <td>45.0746</td>\n",
       "      <td>44.3216</td>\n",
       "      <td>44.7106</td>\n",
       "      <td>45.2756</td>\n",
       "      <td>43.0754</td>\n",
       "    </tr>\n",
       "    <tr>\n",
       "      <td>slate_model</td>\n",
       "      <td>44.8756</td>\n",
       "      <td>43.1156</td>\n",
       "      <td>45.2096</td>\n",
       "      <td>45.8661</td>\n",
       "      <td>46.0285</td>\n",
       "    </tr>\n",
       "    <tr>\n",
       "      <td>government_model</td>\n",
       "      <td>43.4826</td>\n",
       "      <td>46.0302</td>\n",
       "      <td>45.01</td>\n",
       "      <td>50.4921</td>\n",
       "      <td>45.2138</td>\n",
       "    </tr>\n",
       "    <tr>\n",
       "      <td>travel_model</td>\n",
       "      <td>46.1692</td>\n",
       "      <td>45.5276</td>\n",
       "      <td>46.507</td>\n",
       "      <td>49.311</td>\n",
       "      <td>45.6212</td>\n",
       "    </tr>\n",
       "  </tbody>\n",
       "</table>\n",
       "</div>"
      ],
      "text/plain": [
       "                 telephone  fiction    slate government   travel\n",
       "telephone_model    45.6716  43.5176  43.3134    45.5709  43.5845\n",
       "fiction_model      45.0746  44.3216  44.7106    45.2756  43.0754\n",
       "slate_model        44.8756  43.1156  45.2096    45.8661  46.0285\n",
       "government_model   43.4826  46.0302    45.01    50.4921  45.2138\n",
       "travel_model       46.1692  45.5276   46.507     49.311  45.6212"
      ]
     },
     "execution_count": 43,
     "metadata": {},
     "output_type": "execute_result"
    }
   ],
   "source": [
    "df"
   ]
  },
  {
   "cell_type": "code",
   "execution_count": 44,
   "metadata": {},
   "outputs": [
    {
     "data": {
      "image/png": "[encoded data removed]",
      "text/plain": [
       "<Figure size 1008x288 with 1 Axes>"
      ]
     },
     "metadata": {
      "needs_background": "light"
     },
     "output_type": "display_data"
    }
   ],
   "source": [
    "ax = df.plot(kind='bar', title='NN Accuracy (Finetuned using each genre from the MNLI dataset)', \n",
    "             figsize=(14, 4), width=0.8, ylim=(30,55), rot=0)\n",
    "ax.legend(loc='lower right')\n",
    "for p in ax.patches:\n",
    "    ax.annotate(str(p.get_height())[:4], xy=(p.get_x(), p.get_height()+1))"
   ]
  },
  {
   "cell_type": "markdown",
   "metadata": {},
   "source": [
    "The finetuned models are uploaded to [this gdrive folder](https://drive.google.com/drive/folders/1TRwEd7O2ifC72eBJBJ1-zTBfG0nUC1tF?usp=sharing)."
   ]
  },
  {
   "cell_type": "code",
   "execution_count": 59,
   "metadata": {},
   "outputs": [],
   "source": [
    "df_individual = pd.DataFrame([df['telephone']['telephone_model'], \n",
    "                              df['fiction']['fiction_model'], \n",
    "                              df['slate']['slate_model'], \n",
    "                              df['government']['government_model'], \n",
    "                              df['travel']['travel_model']], index=all_genre, columns=['nn'])"
   ]
  },
  {
   "cell_type": "code",
   "execution_count": 73,
   "metadata": {},
   "outputs": [
    {
     "data": {
      "image/png": "[encoded data removed]",
      "text/plain": [
       "<Figure size 576x288 with 1 Axes>"
      ]
     },
     "metadata": {
      "needs_background": "light"
     },
     "output_type": "display_data"
    }
   ],
   "source": [
    "ax = df_individual.plot(kind='bar', title='NN Accuracy Evaluated on the MNLI Dataset (after finetuning)', \n",
    "             figsize=(8, 4), width=0.5, ylim=(30,55), rot=0, color='orange')\n",
    "ax.legend(loc='lower right')\n",
    "for p in ax.patches:\n",
    "    ax.annotate(str(p.get_height())[:4], xy=(p.get_x()+0.15, p.get_height()+1))"
   ]
  },
  {
   "cell_type": "code",
   "execution_count": null,
   "metadata": {},
   "outputs": [],
   "source": []
  }
 ],
 "metadata": {
  "kernelspec": {
   "display_name": "Python 3",
   "language": "python",
   "name": "python3"
  },
  "language_info": {
   "codemirror_mode": {
    "name": "ipython",
    "version": 3
   },
   "file_extension": ".py",
   "mimetype": "text/x-python",
   "name": "python",
   "nbconvert_exporter": "python",
   "pygments_lexer": "ipython3",
   "version": "3.6.9"
  }
 },
 "nbformat": 4,
 "nbformat_minor": 4
}
